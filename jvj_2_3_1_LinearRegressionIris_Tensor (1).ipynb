{
  "nbformat": 4,
  "nbformat_minor": 0,
  "metadata": {
    "colab": {
      "provenance": []
    },
    "kernelspec": {
      "display_name": "Python 3",
      "language": "python",
      "name": "python3"
    }
  },
  "cells": [
    {
      "cell_type": "markdown",
      "metadata": {
        "id": "FLBIxJCuhqix"
      },
      "source": [
        "# Regressão Linear com PyTorch"
      ]
    },
    {
      "cell_type": "markdown",
      "metadata": {
        "ExecuteTime": {
          "end_time": "2017-11-23T20:02:40.968451Z",
          "start_time": "2017-11-23T20:02:40.961876Z"
        },
        "id": "7ifi42Klhqix"
      },
      "source": [
        "Este notebook é um exercício baseado no notebook:\n",
        "- [LinearRegressionIrisNumPy.ipynb](LinearRegressionIrisNumPy.ipynb) feito em NumPy,\n",
        "\n",
        "O objetivo desse notebook é reescrevê-lo porém utilizando tensores do PyTorch.\n",
        "\n",
        "Os nomes das funções do PyTorch são próximas das funções do Torch original escrito\n",
        "na linguagem Lua, porém não são iguais."
      ]
    },
    {
      "cell_type": "markdown",
      "metadata": {
        "id": "y1KiGNl3hqi0"
      },
      "source": [
        "## Importação dos pacotes"
      ]
    },
    {
      "cell_type": "code",
      "metadata": {
        "id": "Dc4sTUIUiFDj"
      },
      "source": [
        "# http://pytorch.org/\n",
        "from os.path import exists\n",
        "import torch"
      ],
      "execution_count": 2,
      "outputs": []
    },
    {
      "cell_type": "code",
      "metadata": {
        "ExecuteTime": {
          "end_time": "2018-02-04T16:01:57.407205Z",
          "start_time": "2018-02-04T16:01:55.699674Z"
        },
        "id": "AjzEaCTrhqi1"
      },
      "source": [
        "%matplotlib inline\n",
        "import torch\n",
        "\n",
        "import matplotlib.pyplot as plt\n",
        "from sklearn.datasets import load_iris\n",
        "\n",
        "torch.manual_seed(1234)\n",
        "\n",
        "def print_assert(r):\n",
        "    if r:\n",
        "        return 'OK!'\n",
        "    else:\n",
        "        return 'Incorreto!'"
      ],
      "execution_count": 3,
      "outputs": []
    },
    {
      "cell_type": "markdown",
      "metadata": {
        "id": "T1KoBM1Khqi4"
      },
      "source": [
        "## Dataset"
      ]
    },
    {
      "cell_type": "markdown",
      "metadata": {
        "id": "8p8NrS7Lhqi5"
      },
      "source": [
        "### Leitura dos dados"
      ]
    },
    {
      "cell_type": "code",
      "metadata": {
        "ExecuteTime": {
          "end_time": "2018-02-04T16:01:58.800961Z",
          "start_time": "2018-02-04T16:01:58.778655Z"
        },
        "id": "bz2JpDCChqi6",
        "colab": {
          "base_uri": "https://localhost:8080/",
          "height": 456
        },
        "outputId": "7d37296e-9d63-453e-e277-a2d7447d2d49"
      },
      "source": [
        "import pandas as pd\n",
        "iris = load_iris()\n",
        "data = iris.data[iris.target==1,::2]  # comprimento das sépalas e pétalas, indices 0 e 2\n",
        "\n",
        "x_in = data[:,0:1]\n",
        "y_in = data[:,1:2]\n",
        "\n",
        "x_train = torch.FloatTensor(x_in)\n",
        "y_train = torch.FloatTensor(y_in)\n",
        "\n",
        "n_samples = x_train.size(0)\n",
        "print('x_train.shape:',x_train.shape, type(x_train))\n",
        "print('y_train.shape:',y_train.shape, type(y_train))\n",
        "\n",
        "print('x_train[:5]:\\n', x_train[:5])\n",
        "print('y_train[:5]:\\n', y_train[:5])\n",
        "\n",
        "iris_pd = pd.DataFrame(x_in, columns=['x_in'])\n",
        "iris_pd['y_in'] = y_in\n",
        "iris_pd.head()"
      ],
      "execution_count": 4,
      "outputs": [
        {
          "output_type": "stream",
          "name": "stdout",
          "text": [
            "x_train.shape: torch.Size([50, 1]) <class 'torch.Tensor'>\n",
            "y_train.shape: torch.Size([50, 1]) <class 'torch.Tensor'>\n",
            "x_train[:5]:\n",
            " tensor([[7.0000],\n",
            "        [6.4000],\n",
            "        [6.9000],\n",
            "        [5.5000],\n",
            "        [6.5000]])\n",
            "y_train[:5]:\n",
            " tensor([[4.7000],\n",
            "        [4.5000],\n",
            "        [4.9000],\n",
            "        [4.0000],\n",
            "        [4.6000]])\n"
          ]
        },
        {
          "output_type": "execute_result",
          "data": {
            "text/plain": [
              "   x_in  y_in\n",
              "0   7.0   4.7\n",
              "1   6.4   4.5\n",
              "2   6.9   4.9\n",
              "3   5.5   4.0\n",
              "4   6.5   4.6"
            ],
            "text/html": [
              "\n",
              "  <div id=\"df-b4579d6d-0d61-4265-ad8c-c140128875a5\" class=\"colab-df-container\">\n",
              "    <div>\n",
              "<style scoped>\n",
              "    .dataframe tbody tr th:only-of-type {\n",
              "        vertical-align: middle;\n",
              "    }\n",
              "\n",
              "    .dataframe tbody tr th {\n",
              "        vertical-align: top;\n",
              "    }\n",
              "\n",
              "    .dataframe thead th {\n",
              "        text-align: right;\n",
              "    }\n",
              "</style>\n",
              "<table border=\"1\" class=\"dataframe\">\n",
              "  <thead>\n",
              "    <tr style=\"text-align: right;\">\n",
              "      <th></th>\n",
              "      <th>x_in</th>\n",
              "      <th>y_in</th>\n",
              "    </tr>\n",
              "  </thead>\n",
              "  <tbody>\n",
              "    <tr>\n",
              "      <th>0</th>\n",
              "      <td>7.0</td>\n",
              "      <td>4.7</td>\n",
              "    </tr>\n",
              "    <tr>\n",
              "      <th>1</th>\n",
              "      <td>6.4</td>\n",
              "      <td>4.5</td>\n",
              "    </tr>\n",
              "    <tr>\n",
              "      <th>2</th>\n",
              "      <td>6.9</td>\n",
              "      <td>4.9</td>\n",
              "    </tr>\n",
              "    <tr>\n",
              "      <th>3</th>\n",
              "      <td>5.5</td>\n",
              "      <td>4.0</td>\n",
              "    </tr>\n",
              "    <tr>\n",
              "      <th>4</th>\n",
              "      <td>6.5</td>\n",
              "      <td>4.6</td>\n",
              "    </tr>\n",
              "  </tbody>\n",
              "</table>\n",
              "</div>\n",
              "    <div class=\"colab-df-buttons\">\n",
              "\n",
              "  <div class=\"colab-df-container\">\n",
              "    <button class=\"colab-df-convert\" onclick=\"convertToInteractive('df-b4579d6d-0d61-4265-ad8c-c140128875a5')\"\n",
              "            title=\"Convert this dataframe to an interactive table.\"\n",
              "            style=\"display:none;\">\n",
              "\n",
              "  <svg xmlns=\"http://www.w3.org/2000/svg\" height=\"24px\" viewBox=\"0 -960 960 960\">\n",
              "    <path d=\"M120-120v-720h720v720H120Zm60-500h600v-160H180v160Zm220 220h160v-160H400v160Zm0 220h160v-160H400v160ZM180-400h160v-160H180v160Zm440 0h160v-160H620v160ZM180-180h160v-160H180v160Zm440 0h160v-160H620v160Z\"/>\n",
              "  </svg>\n",
              "    </button>\n",
              "\n",
              "  <style>\n",
              "    .colab-df-container {\n",
              "      display:flex;\n",
              "      gap: 12px;\n",
              "    }\n",
              "\n",
              "    .colab-df-convert {\n",
              "      background-color: #E8F0FE;\n",
              "      border: none;\n",
              "      border-radius: 50%;\n",
              "      cursor: pointer;\n",
              "      display: none;\n",
              "      fill: #1967D2;\n",
              "      height: 32px;\n",
              "      padding: 0 0 0 0;\n",
              "      width: 32px;\n",
              "    }\n",
              "\n",
              "    .colab-df-convert:hover {\n",
              "      background-color: #E2EBFA;\n",
              "      box-shadow: 0px 1px 2px rgba(60, 64, 67, 0.3), 0px 1px 3px 1px rgba(60, 64, 67, 0.15);\n",
              "      fill: #174EA6;\n",
              "    }\n",
              "\n",
              "    .colab-df-buttons div {\n",
              "      margin-bottom: 4px;\n",
              "    }\n",
              "\n",
              "    [theme=dark] .colab-df-convert {\n",
              "      background-color: #3B4455;\n",
              "      fill: #D2E3FC;\n",
              "    }\n",
              "\n",
              "    [theme=dark] .colab-df-convert:hover {\n",
              "      background-color: #434B5C;\n",
              "      box-shadow: 0px 1px 3px 1px rgba(0, 0, 0, 0.15);\n",
              "      filter: drop-shadow(0px 1px 2px rgba(0, 0, 0, 0.3));\n",
              "      fill: #FFFFFF;\n",
              "    }\n",
              "  </style>\n",
              "\n",
              "    <script>\n",
              "      const buttonEl =\n",
              "        document.querySelector('#df-b4579d6d-0d61-4265-ad8c-c140128875a5 button.colab-df-convert');\n",
              "      buttonEl.style.display =\n",
              "        google.colab.kernel.accessAllowed ? 'block' : 'none';\n",
              "\n",
              "      async function convertToInteractive(key) {\n",
              "        const element = document.querySelector('#df-b4579d6d-0d61-4265-ad8c-c140128875a5');\n",
              "        const dataTable =\n",
              "          await google.colab.kernel.invokeFunction('convertToInteractive',\n",
              "                                                    [key], {});\n",
              "        if (!dataTable) return;\n",
              "\n",
              "        const docLinkHtml = 'Like what you see? Visit the ' +\n",
              "          '<a target=\"_blank\" href=https://colab.research.google.com/notebooks/data_table.ipynb>data table notebook</a>'\n",
              "          + ' to learn more about interactive tables.';\n",
              "        element.innerHTML = '';\n",
              "        dataTable['output_type'] = 'display_data';\n",
              "        await google.colab.output.renderOutput(dataTable, element);\n",
              "        const docLink = document.createElement('div');\n",
              "        docLink.innerHTML = docLinkHtml;\n",
              "        element.appendChild(docLink);\n",
              "      }\n",
              "    </script>\n",
              "  </div>\n",
              "\n",
              "\n",
              "    <div id=\"df-39694886-8c77-4356-9b2d-1e93901a7419\">\n",
              "      <button class=\"colab-df-quickchart\" onclick=\"quickchart('df-39694886-8c77-4356-9b2d-1e93901a7419')\"\n",
              "                title=\"Suggest charts\"\n",
              "                style=\"display:none;\">\n",
              "\n",
              "<svg xmlns=\"http://www.w3.org/2000/svg\" height=\"24px\"viewBox=\"0 0 24 24\"\n",
              "     width=\"24px\">\n",
              "    <g>\n",
              "        <path d=\"M19 3H5c-1.1 0-2 .9-2 2v14c0 1.1.9 2 2 2h14c1.1 0 2-.9 2-2V5c0-1.1-.9-2-2-2zM9 17H7v-7h2v7zm4 0h-2V7h2v10zm4 0h-2v-4h2v4z\"/>\n",
              "    </g>\n",
              "</svg>\n",
              "      </button>\n",
              "\n",
              "<style>\n",
              "  .colab-df-quickchart {\n",
              "      --bg-color: #E8F0FE;\n",
              "      --fill-color: #1967D2;\n",
              "      --hover-bg-color: #E2EBFA;\n",
              "      --hover-fill-color: #174EA6;\n",
              "      --disabled-fill-color: #AAA;\n",
              "      --disabled-bg-color: #DDD;\n",
              "  }\n",
              "\n",
              "  [theme=dark] .colab-df-quickchart {\n",
              "      --bg-color: #3B4455;\n",
              "      --fill-color: #D2E3FC;\n",
              "      --hover-bg-color: #434B5C;\n",
              "      --hover-fill-color: #FFFFFF;\n",
              "      --disabled-bg-color: #3B4455;\n",
              "      --disabled-fill-color: #666;\n",
              "  }\n",
              "\n",
              "  .colab-df-quickchart {\n",
              "    background-color: var(--bg-color);\n",
              "    border: none;\n",
              "    border-radius: 50%;\n",
              "    cursor: pointer;\n",
              "    display: none;\n",
              "    fill: var(--fill-color);\n",
              "    height: 32px;\n",
              "    padding: 0;\n",
              "    width: 32px;\n",
              "  }\n",
              "\n",
              "  .colab-df-quickchart:hover {\n",
              "    background-color: var(--hover-bg-color);\n",
              "    box-shadow: 0 1px 2px rgba(60, 64, 67, 0.3), 0 1px 3px 1px rgba(60, 64, 67, 0.15);\n",
              "    fill: var(--button-hover-fill-color);\n",
              "  }\n",
              "\n",
              "  .colab-df-quickchart-complete:disabled,\n",
              "  .colab-df-quickchart-complete:disabled:hover {\n",
              "    background-color: var(--disabled-bg-color);\n",
              "    fill: var(--disabled-fill-color);\n",
              "    box-shadow: none;\n",
              "  }\n",
              "\n",
              "  .colab-df-spinner {\n",
              "    border: 2px solid var(--fill-color);\n",
              "    border-color: transparent;\n",
              "    border-bottom-color: var(--fill-color);\n",
              "    animation:\n",
              "      spin 1s steps(1) infinite;\n",
              "  }\n",
              "\n",
              "  @keyframes spin {\n",
              "    0% {\n",
              "      border-color: transparent;\n",
              "      border-bottom-color: var(--fill-color);\n",
              "      border-left-color: var(--fill-color);\n",
              "    }\n",
              "    20% {\n",
              "      border-color: transparent;\n",
              "      border-left-color: var(--fill-color);\n",
              "      border-top-color: var(--fill-color);\n",
              "    }\n",
              "    30% {\n",
              "      border-color: transparent;\n",
              "      border-left-color: var(--fill-color);\n",
              "      border-top-color: var(--fill-color);\n",
              "      border-right-color: var(--fill-color);\n",
              "    }\n",
              "    40% {\n",
              "      border-color: transparent;\n",
              "      border-right-color: var(--fill-color);\n",
              "      border-top-color: var(--fill-color);\n",
              "    }\n",
              "    60% {\n",
              "      border-color: transparent;\n",
              "      border-right-color: var(--fill-color);\n",
              "    }\n",
              "    80% {\n",
              "      border-color: transparent;\n",
              "      border-right-color: var(--fill-color);\n",
              "      border-bottom-color: var(--fill-color);\n",
              "    }\n",
              "    90% {\n",
              "      border-color: transparent;\n",
              "      border-bottom-color: var(--fill-color);\n",
              "    }\n",
              "  }\n",
              "</style>\n",
              "\n",
              "      <script>\n",
              "        async function quickchart(key) {\n",
              "          const quickchartButtonEl =\n",
              "            document.querySelector('#' + key + ' button');\n",
              "          quickchartButtonEl.disabled = true;  // To prevent multiple clicks.\n",
              "          quickchartButtonEl.classList.add('colab-df-spinner');\n",
              "          try {\n",
              "            const charts = await google.colab.kernel.invokeFunction(\n",
              "                'suggestCharts', [key], {});\n",
              "          } catch (error) {\n",
              "            console.error('Error during call to suggestCharts:', error);\n",
              "          }\n",
              "          quickchartButtonEl.classList.remove('colab-df-spinner');\n",
              "          quickchartButtonEl.classList.add('colab-df-quickchart-complete');\n",
              "        }\n",
              "        (() => {\n",
              "          let quickchartButtonEl =\n",
              "            document.querySelector('#df-39694886-8c77-4356-9b2d-1e93901a7419 button');\n",
              "          quickchartButtonEl.style.display =\n",
              "            google.colab.kernel.accessAllowed ? 'block' : 'none';\n",
              "        })();\n",
              "      </script>\n",
              "    </div>\n",
              "\n",
              "    </div>\n",
              "  </div>\n"
            ],
            "application/vnd.google.colaboratory.intrinsic+json": {
              "type": "dataframe",
              "variable_name": "iris_pd",
              "summary": "{\n  \"name\": \"iris_pd\",\n  \"rows\": 50,\n  \"fields\": [\n    {\n      \"column\": \"x_in\",\n      \"properties\": {\n        \"dtype\": \"number\",\n        \"std\": 0.5161711470638635,\n        \"min\": 4.9,\n        \"max\": 7.0,\n        \"num_unique_values\": 21,\n        \"samples\": [\n          7.0,\n          6.2,\n          6.7\n        ],\n        \"semantic_type\": \"\",\n        \"description\": \"\"\n      }\n    },\n    {\n      \"column\": \"y_in\",\n      \"properties\": {\n        \"dtype\": \"number\",\n        \"std\": 0.46991097723995806,\n        \"min\": 3.0,\n        \"max\": 5.1,\n        \"num_unique_values\": 19,\n        \"samples\": [\n          4.7,\n          3.3,\n          4.1\n        ],\n        \"semantic_type\": \"\",\n        \"description\": \"\"\n      }\n    }\n  ]\n}"
            }
          },
          "metadata": {},
          "execution_count": 4
        }
      ]
    },
    {
      "cell_type": "markdown",
      "metadata": {
        "id": "EdDMPH5Ehqi_"
      },
      "source": [
        "### Normalização dos dados"
      ]
    },
    {
      "cell_type": "code",
      "metadata": {
        "ExecuteTime": {
          "end_time": "2018-02-04T16:02:00.272143Z",
          "start_time": "2018-02-04T16:02:00.266943Z"
        },
        "id": "CthUVnEBhqjB",
        "colab": {
          "base_uri": "https://localhost:8080/",
          "height": 467
        },
        "outputId": "c36a5edd-cdef-44e1-fca9-715f75833868"
      },
      "source": [
        "x_train -= x_train.min()\n",
        "x_train /= x_train.max()\n",
        "y_train -= y_train.min()\n",
        "y_train /= y_train.max()\n",
        "\n",
        "plt.scatter(x_train,y_train)\n",
        "plt.xlabel('Comprimento sepalas')\n",
        "plt.ylabel('Comprimento petalas')"
      ],
      "execution_count": 5,
      "outputs": [
        {
          "output_type": "execute_result",
          "data": {
            "text/plain": [
              "Text(0, 0.5, 'Comprimento petalas')"
            ]
          },
          "metadata": {},
          "execution_count": 5
        },
        {
          "output_type": "display_data",
          "data": {
            "text/plain": [
              "<Figure size 640x480 with 1 Axes>"
            ],
            "image/png": "[encoded data removed]"
          },
          "metadata": {}
        }
      ]
    },
    {
      "cell_type": "markdown",
      "metadata": {
        "id": "l6bRM0fZhqjD"
      },
      "source": [
        "### Exercício 1 - criação do `x_train_bias`"
      ]
    },
    {
      "cell_type": "markdown",
      "metadata": {
        "id": "19c3cPARhqjE"
      },
      "source": [
        "faça o `x_train_bias` ser uma matriz com 1s na primeira coluna e x_train na segunda coluna.\n",
        "\n",
        "\n",
        "\n",
        "\n",
        "Dica: você pode precisar da função [torch.cat](http://pytorch.org/docs/master/torch.html#torch.cat) e [torch.ones](http://pytorch.org/docs/master/torch.html#torch.ones)."
      ]
    },
    {
      "cell_type": "code",
      "metadata": {
        "id": "5CiVS_025I_q",
        "colab": {
          "base_uri": "https://localhost:8080/"
        },
        "outputId": "f1f1fd9e-3edf-4116-c927-afcf75bc061e"
      },
      "source": [
        "x_train_bias = torch.cat((torch.ones(n_samples, 1), x_train), dim=1)\n",
        "print(x_train_bias.size())"
      ],
      "execution_count": 6,
      "outputs": [
        {
          "output_type": "stream",
          "name": "stdout",
          "text": [
            "torch.Size([50, 2])\n"
          ]
        }
      ]
    },
    {
      "cell_type": "code",
      "metadata": {
        "ExecuteTime": {
          "end_time": "2018-02-04T16:02:06.278514Z",
          "start_time": "2018-02-04T16:02:06.268450Z"
        },
        "id": "TdpisrMYhqjI",
        "colab": {
          "base_uri": "https://localhost:8080/"
        },
        "outputId": "fca092e3-3925-4632-e9f9-a4ef229baf7a"
      },
      "source": [
        "# Verificação do exercício - Execute para testar sua implementação\n",
        "\n",
        "print('x_train_bias é um tensor: {}'.format(print_assert(\n",
        "    isinstance(x_train_bias, torch.FloatTensor)\n",
        ")))\n",
        "\n",
        "\n",
        "print('tamanho do x_train_bias: {}'.format(print_assert(\n",
        "    x_train_bias.size() == torch.Size([50, 2])\n",
        ")))\n",
        "\n",
        "print('primeira coluna é só de uns: {}'.format(print_assert(\n",
        "    (x_train_bias[:, 0] - torch.ones(n_samples)).sum() == 0\n",
        ")))\n",
        "\n",
        "print('segunda coluna é igual a x_train: {}'.format(print_assert(\n",
        "    (x_train_bias[:, 1] - x_train.reshape(50)).sum() == 0\n",
        ")))\n"
      ],
      "execution_count": 7,
      "outputs": [
        {
          "output_type": "stream",
          "name": "stdout",
          "text": [
            "x_train_bias é um tensor: OK!\n",
            "tamanho do x_train_bias: OK!\n",
            "primeira coluna é só de uns: OK!\n",
            "segunda coluna é igual a x_train: OK!\n"
          ]
        }
      ]
    },
    {
      "cell_type": "code",
      "metadata": {
        "id": "LKUjD44n8gFZ",
        "colab": {
          "base_uri": "https://localhost:8080/"
        },
        "outputId": "f036a873-3733-4b5e-ac63-655aeaa5a678"
      },
      "source": [
        "print(x_train_bias[:, 1].shape)\n",
        "print(x_train.shape)"
      ],
      "execution_count": 8,
      "outputs": [
        {
          "output_type": "stream",
          "name": "stdout",
          "text": [
            "torch.Size([50])\n",
            "torch.Size([50, 1])\n"
          ]
        }
      ]
    },
    {
      "cell_type": "markdown",
      "metadata": {
        "id": "Lg9Tq18khqjO"
      },
      "source": [
        "## Modelo da rede"
      ]
    },
    {
      "cell_type": "markdown",
      "metadata": {
        "id": "UR6aot_thqjO"
      },
      "source": [
        "### Definição da classe"
      ]
    },
    {
      "cell_type": "code",
      "metadata": {
        "ExecuteTime": {
          "end_time": "2018-02-04T16:02:09.598222Z",
          "start_time": "2018-02-04T16:02:09.591078Z"
        },
        "id": "_H18CQOXhqjP"
      },
      "source": [
        "class Net():\n",
        "    def __init__(self, n_in, n_out):\n",
        "        self.w = torch.Tensor(n_out, n_in)\n",
        "        self.w.uniform_(-0.1,0.1) #inicialização dos parâmetros\n",
        "\n",
        "    def forward(self, x_bias):\n",
        "        return x_bias.matmul(torch.t(self.w)) ## AQUI\n"
      ],
      "execution_count": 9,
      "outputs": []
    },
    {
      "cell_type": "markdown",
      "metadata": {
        "id": "vj9y-Ck5hqjS"
      },
      "source": [
        "### Instanciando a rede"
      ]
    },
    {
      "cell_type": "code",
      "metadata": {
        "ExecuteTime": {
          "end_time": "2018-02-04T16:02:11.321744Z",
          "start_time": "2018-02-04T16:02:11.317928Z"
        },
        "id": "Hrmnfv3bhqjT"
      },
      "source": [
        "model = Net(2,1)"
      ],
      "execution_count": 10,
      "outputs": []
    },
    {
      "cell_type": "markdown",
      "metadata": {
        "id": "-Y-XBG1FhqjV"
      },
      "source": [
        "### Testando o predict da rede"
      ]
    },
    {
      "cell_type": "code",
      "metadata": {
        "ExecuteTime": {
          "end_time": "2018-02-04T16:02:13.479757Z",
          "start_time": "2018-02-04T16:02:13.409349Z"
        },
        "id": "yhStqIqShqjV",
        "colab": {
          "base_uri": "https://localhost:8080/"
        },
        "outputId": "17003133-c597-49b4-8c5d-8ae807e79d84"
      },
      "source": [
        "model.forward(torch.ones((4,2)))\n",
        "#model.forward(torch.randn(4,2))"
      ],
      "execution_count": 11,
      "outputs": [
        {
          "output_type": "execute_result",
          "data": {
            "text/plain": [
              "tensor([[-0.1138],\n",
              "        [-0.1138],\n",
              "        [-0.1138],\n",
              "        [-0.1138]])"
            ]
          },
          "metadata": {},
          "execution_count": 11
        }
      ]
    },
    {
      "cell_type": "markdown",
      "metadata": {
        "id": "4vanbhwdhqjZ"
      },
      "source": [
        "## Treinamento"
      ]
    },
    {
      "cell_type": "markdown",
      "metadata": {
        "id": "mYrL0yOnhqjb"
      },
      "source": [
        "### Exercício 2 - Treinamento"
      ]
    },
    {
      "cell_type": "markdown",
      "metadata": {
        "id": "ZCOpAvN5hqjb"
      },
      "source": [
        "Refaça o código de treinamento da rede, mas agora utilizando somente Tensores do PyTorch. Faça o mesmo procedimento que o notebook [LinearRegressionIrisNumPy](LinearRegressionIrisNumPy.ipynb). Para consultar as operações disponíveis no PyTorch use a [documentação do PyTorch](http://pytorch.org/docs/master/torch.html).\n",
        "\n",
        "Funções que podem ser úteis:\n",
        "- torch.t\n",
        "- torch.mean\n",
        "- torch.matmul"
      ]
    },
    {
      "cell_type": "code",
      "metadata": {
        "ExecuteTime": {
          "end_time": "2018-02-04T16:02:18.464526Z",
          "start_time": "2018-02-04T16:02:18.452463Z"
        },
        "scrolled": false,
        "id": "NEqW54M7hqji",
        "colab": {
          "base_uri": "https://localhost:8080/"
        },
        "outputId": "7c594eb8-de83-4393-9533-cc33f23ab84d"
      },
      "source": [
        "num_epochs = 100\n",
        "learning_rate = 0.5\n",
        "for epoch in range(num_epochs):\n",
        "\n",
        "    # forward - predict\n",
        "    y_pred = model.forward(x_train_bias)\n",
        "\n",
        "    #loss cálculo da função de perda\n",
        "    #loss = np.square(y_pred - y_train).mean()\n",
        "    loss = torch.mean((y_pred - y_train)**2)\n",
        "\n",
        "    # cálculo do gradiente pelas derivadas parciais\n",
        "    #w_grad = (2.0/n_samples) * (x_train_bias.T).dot(x_train_bias.dot(model.w.T) - y_train)\n",
        "    w_grad = (2.0/n_samples) * x_train_bias.t().matmul(x_train_bias.matmul(model.w.t()) - y_train)\n",
        "\n",
        "    # gradiente descendente\n",
        "    #model.w = model.w - learning_rate * w_grad.T\n",
        "    model.w = model.w - learning_rate * w_grad.t()\n",
        "\n",
        "    # verbose\n",
        "    if (epoch+1) % 20 == 0:\n",
        "        print('Epoch[{}/{}], loss: {:.6f}'\n",
        "              .format(epoch+1, num_epochs, loss))"
      ],
      "execution_count": 12,
      "outputs": [
        {
          "output_type": "stream",
          "name": "stdout",
          "text": [
            "Epoch[20/100], loss: 0.022786\n",
            "Epoch[40/100], loss: 0.021403\n",
            "Epoch[60/100], loss: 0.021203\n",
            "Epoch[80/100], loss: 0.021174\n",
            "Epoch[100/100], loss: 0.021170\n"
          ]
        }
      ]
    },
    {
      "cell_type": "markdown",
      "metadata": {
        "id": "fCU9-FTahqjo"
      },
      "source": [
        "### Valor ótimo, solução analítica"
      ]
    },
    {
      "cell_type": "markdown",
      "metadata": {
        "id": "mYnhoBb8hqjp"
      },
      "source": [
        "## Avaliação"
      ]
    },
    {
      "cell_type": "markdown",
      "metadata": {
        "id": "yK5vrBd1hqjq"
      },
      "source": [
        "### Predict"
      ]
    },
    {
      "cell_type": "code",
      "metadata": {
        "ExecuteTime": {
          "end_time": "2018-02-04T16:02:22.149118Z",
          "start_time": "2018-02-04T16:02:21.945738Z"
        },
        "id": "ieHyyJ25hqjr",
        "colab": {
          "base_uri": "https://localhost:8080/",
          "height": 430
        },
        "outputId": "91e31343-2708-4ef1-e7e3-10ccccf16e3f"
      },
      "source": [
        "y_pred = model.forward(x_train_bias)\n",
        "plt.plot(x_train.numpy(), y_train.numpy(), 'ro', label='Original data')\n",
        "plt.plot(x_train.numpy(), y_pred.numpy(), 'kx-', label='Fitting Line')\n",
        "plt.show()"
      ],
      "execution_count": 13,
      "outputs": [
        {
          "output_type": "display_data",
          "data": {
            "text/plain": [
              "<Figure size 640x480 with 1 Axes>"
            ],
            "image/png": "[encoded data removed]"
          },
          "metadata": {}
        }
      ]
    },
    {
      "cell_type": "markdown",
      "metadata": {
        "id": "h8pcSIHBhqjx"
      },
      "source": [
        "### Parâmetro treinado"
      ]
    },
    {
      "cell_type": "code",
      "metadata": {
        "ExecuteTime": {
          "end_time": "2018-02-04T16:02:25.042712Z",
          "start_time": "2018-02-04T16:02:25.035458Z"
        },
        "id": "uXLo4RF8hqjy",
        "colab": {
          "base_uri": "https://localhost:8080/"
        },
        "outputId": "874f9a96-0b65-4855-e9f8-421065d10e3a"
      },
      "source": [
        "print(model.w)"
      ],
      "execution_count": 14,
      "outputs": [
        {
          "output_type": "stream",
          "name": "stdout",
          "text": [
            "tensor([[0.2630, 0.6832]])\n"
          ]
        }
      ]
    },
    {
      "cell_type": "code",
      "metadata": {
        "ExecuteTime": {
          "end_time": "2018-02-04T16:08:31.867782Z",
          "start_time": "2018-02-04T16:08:31.863719Z"
        },
        "id": "8To9Xp_7hqj1",
        "colab": {
          "base_uri": "https://localhost:8080/"
        },
        "outputId": "fa4a035a-982b-4195-9357-52ea2b43dca9"
      },
      "source": [
        "x_bias = x_train_bias\n",
        "y = y_train\n",
        "w_opt = (torch.inverse(x_bias.t().mm(x_bias)).mm(x_bias.t())).mm(y)\n",
        "print(w_opt.t())"
      ],
      "execution_count": 15,
      "outputs": [
        {
          "output_type": "stream",
          "name": "stdout",
          "text": [
            "tensor([[0.2613, 0.6865]])\n"
          ]
        }
      ]
    },
    {
      "cell_type": "code",
      "metadata": {
        "id": "SIcLcHtPhqj4",
        "colab": {
          "base_uri": "https://localhost:8080/",
          "height": 474
        },
        "outputId": "4185871e-12db-4f14-ae18-61c0f36d65e2"
      },
      "source": [
        "import torch\n",
        "import matplotlib.pyplot as plt\n",
        "# Convert existing PyTorch tensors to NumPy arrays\n",
        "x_train_np = x_train.numpy()\n",
        "y_train_np = y_train.numpy()\n",
        "# Gerando os dados (exemplo com Iris, supondo que x_train e y_train já estejam definidos como tensores)\n",
        "# Aqui é só um placeholder, substitua pelos dados reais.\n",
        "x_train = torch.tensor(x_train_np, dtype=torch.float32)  # substitua por seus dados\n",
        "y_train = torch.tensor(y_train_np, dtype=torch.float32)\n",
        "\n",
        "# Adicionando o bias (coluna de 1s)\n",
        "ones = torch.ones((x_train.shape[0], 1))\n",
        "x_train_bias = torch.cat((ones, x_train), dim=1)\n",
        "\n",
        "# Inicialização dos pesos\n",
        "w = torch.randn((x_train_bias.shape[1], 1), dtype=torch.float32, requires_grad=True)\n",
        "\n",
        "# Hiperparâmetros\n",
        "learning_rate = 0.01\n",
        "epochs = 1000\n",
        "loss_history = []\n",
        "\n",
        "# Treinamento\n",
        "for epoch in range(epochs):\n",
        "    # Forward\n",
        "    y_pred = x_train_bias @ w\n",
        "\n",
        "    # Loss (MSE)\n",
        "    loss = torch.mean((y_pred - y_train) ** 2)\n",
        "    loss_history.append(loss.item())\n",
        "\n",
        "    # Backward\n",
        "    loss.backward()\n",
        "\n",
        "    # Atualização dos pesos\n",
        "    with torch.no_grad():\n",
        "        w -= learning_rate * w.grad\n",
        "\n",
        "    # Zera os gradientes para a próxima iteração\n",
        "    w.grad.zero_()\n",
        "\n",
        "# Plot da perda\n",
        "plt.plot(loss_history)\n",
        "plt.xlabel('Época')\n",
        "plt.ylabel('Loss (MSE)')\n",
        "plt.title('Perda durante o treinamento com tensores do PyTorch')\n",
        "plt.show()\n"
      ],
      "execution_count": 18,
      "outputs": [
        {
          "output_type": "display_data",
          "data": {
            "text/plain": [
              "<Figure size 640x480 with 1 Axes>"
            ],
            "image/png": "[encoded data removed]"
          },
          "metadata": {}
        }
      ]
    }
  ]
}