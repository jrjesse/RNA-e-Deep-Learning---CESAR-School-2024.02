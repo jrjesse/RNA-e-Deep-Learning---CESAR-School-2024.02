{
 "cells": [
  {
   "cell_type": "markdown",
   "metadata": {
    "id": "Ot79tGiPOl08"
   },
   "source": [
    "# Regressão Softmax com dados do MNIST"
   ]
  },
  {
   "cell_type": "markdown",
   "metadata": {
    "id": "21fecJPyOl0-"
   },
   "source": [
    "## Objetivo"
   ]
  },
  {
   "cell_type": "markdown",
   "metadata": {
    "id": "z8SxRSoLOl1I"
   },
   "source": [
    "O objetivo deste notebook é ilustrar o uso de praticamente a mesma rede desenvolvida para a classificação das flores Íris, porém agora com o problema de classificação de dígitos manuscritos utilizando o dataset MNIST.\n",
    "As principais diferenças são:\n",
    "- tipo do dado, agora imagem com muito atributos: 28 x 28 pixels\n",
    "- número de amostras, muito maior, 60 mil\n",
    "Neste exercício será possível a interpretação do significado dos parâmetros treinados"
   ]
  },
  {
   "cell_type": "markdown",
   "metadata": {
    "id": "RKVT1A6zOl1J"
   },
   "source": [
    "## Importação das bibliotecas"
   ]
  },
  {
   "cell_type": "code",
   "execution_count": 1,
   "metadata": {
    "colab": {
     "base_uri": "https://localhost:8080/"
    },
    "id": "EVN-NfMTNk73",
    "outputId": "d980c06d-5e98-47e1-ab99-a7c0a9ac88c4"
   },
   "outputs": [
    {
     "name": "stdout",
     "output_type": "stream",
     "text": [
      "Requirement already satisfied: Pillow in c:\\users\\mathe\\appdata\\local\\programs\\python\\python312\\lib\\site-packages (10.2.0)\n"
     ]
    }
   ],
   "source": [
    "! pip install Pillow"
   ]
  },
  {
   "cell_type": "code",
   "execution_count": 12,
   "metadata": {
    "ExecuteTime": {
     "end_time": "2017-11-24T15:44:50.097111",
     "start_time": "2017-11-24T15:44:48.915046"
    },
    "id": "2oKVJHVNOl1k"
   },
   "outputs": [],
   "source": [
    "%matplotlib inline\n",
    "import numpy as np\n",
    "import matplotlib.pyplot as plt\n",
    "import pandas as pd\n",
    "\n",
    "import torch\n",
    "from torch.autograd import Variable\n",
    "\n",
    "import torchvision"
   ]
  },
  {
   "cell_type": "markdown",
   "metadata": {
    "id": "BmeldMPaOl1p"
   },
   "source": [
    "## Carregamento dos dados do MNIST"
   ]
  },
  {
   "cell_type": "code",
   "execution_count": 13,
   "metadata": {
    "colab": {
     "base_uri": "https://localhost:8080/"
    },
    "id": "vzrUS_xbgvry",
    "outputId": "4da4b641-ff56-49d7-8a85-45e72c12d83b"
   },
   "outputs": [
    {
     "name": "stderr",
     "output_type": "stream",
     "text": [
      "fatal: destination path 'MNIST' already exists and is not an empty directory.\n"
     ]
    }
   ],
   "source": [
    "! git clone https://github.com/vcasadei/MNIST.git"
   ]
  },
  {
   "cell_type": "code",
   "execution_count": 14,
   "metadata": {
    "colab": {
     "base_uri": "https://localhost:8080/"
    },
    "id": "f6tbsAECg5JB",
    "outputId": "1cc75a30-8133-4779-f4db-37f9345d8c14"
   },
   "outputs": [
    {
     "name": "stderr",
     "output_type": "stream",
     "text": [
      "'ls' nÆo ‚ reconhecido como um comando interno\n",
      "ou externo, um programa oper vel ou um arquivo em lotes.\n"
     ]
    }
   ],
   "source": [
    "!ls MNIST"
   ]
  },
  {
   "cell_type": "code",
   "execution_count": 15,
   "metadata": {
    "ExecuteTime": {
     "end_time": "2017-11-24T15:44:50.638218",
     "start_time": "2017-11-24T15:44:50.098808"
    },
    "colab": {
     "base_uri": "https://localhost:8080/"
    },
    "id": "q0KuxPGVOl1q",
    "outputId": "87c71ceb-1486-42d4-da20-bd241dfac1a1"
   },
   "outputs": [
    {
     "name": "stdout",
     "output_type": "stream",
     "text": [
      "Amostras de treinamento: 60000\n",
      "\n",
      "Dimensões dos dados das imagens:    torch.Size([60000, 28, 28])\n",
      "Valores mínimo e máximo dos pixels: tensor(0, dtype=torch.uint8) tensor(255, dtype=torch.uint8)\n",
      "Tipo dos dados das imagens:         <class 'torch.Tensor'>\n",
      "Tipo das classes das imagens:       <class 'torch.Tensor'>\n"
     ]
    }
   ],
   "source": [
    "dataset_dir = 'MNIST/'\n",
    "\n",
    "x_train, y_train = torch.load(dataset_dir + 'processed/training.pt')\n",
    "\n",
    "print(\"Amostras de treinamento:\", x_train.size(0))\n",
    "\n",
    "print(\"\\nDimensões dos dados das imagens:   \", x_train.size())\n",
    "print(\"Valores mínimo e máximo dos pixels:\", torch.min(x_train), torch.max(x_train))\n",
    "print(\"Tipo dos dados das imagens:        \", type(x_train))\n",
    "print(\"Tipo das classes das imagens:      \", type(y_train))"
   ]
  },
  {
   "cell_type": "markdown",
   "metadata": {
    "id": "DccnsPRCOl1y"
   },
   "source": [
    "### Carregamento, normalização e seleção dos dados do MNIST\n",
    "\n",
    "Neste exemplo utilizaremos apenas 1000 amostras de treinamento."
   ]
  },
  {
   "cell_type": "code",
   "execution_count": 16,
   "metadata": {
    "ExecuteTime": {
     "end_time": "2017-11-24T15:44:50.895668",
     "start_time": "2017-11-24T15:44:50.640110"
    },
    "colab": {
     "base_uri": "https://localhost:8080/"
    },
    "id": "jRfSlVpnOl10",
    "outputId": "0bb58908-35f4-4390-fbaa-a03658d069e7"
   },
   "outputs": [
    {
     "name": "stdout",
     "output_type": "stream",
     "text": [
      "Amostras de treinamento: 1000\n",
      "\n",
      "Dimensões dos dados das imagens:    torch.Size([1000, 28, 28])\n",
      "Valores mínimo e máximo dos pixels: tensor(0.) tensor(1.)\n",
      "Tipo dos dados das imagens:         <class 'torch.Tensor'>\n",
      "Tipo das classes das imagens:       <class 'torch.Tensor'>\n"
     ]
    }
   ],
   "source": [
    "x_train = x_train.float()\n",
    "\n",
    "x_train = x_train / 255.\n",
    "\n",
    "if True:\n",
    "    n_samples_train = 1000\n",
    "\n",
    "    x_train = x_train[:n_samples_train]\n",
    "    y_train = y_train[:n_samples_train]\n",
    "\n",
    "print(\"Amostras de treinamento:\", x_train.size(0))\n",
    "\n",
    "print(\"\\nDimensões dos dados das imagens:   \", x_train.size())\n",
    "print(\"Valores mínimo e máximo dos pixels:\", torch.min(x_train), torch.max(x_train))\n",
    "print(\"Tipo dos dados das imagens:        \", type(x_train))\n",
    "print(\"Tipo das classes das imagens:      \", type(y_train))"
   ]
  },
  {
   "cell_type": "markdown",
   "metadata": {
    "id": "0tXHwvS_Ol13"
   },
   "source": [
    "### Visualizando os dados"
   ]
  },
  {
   "cell_type": "code",
   "execution_count": 17,
   "metadata": {
    "ExecuteTime": {
     "end_time": "2017-11-24T16:32:19.474568",
     "start_time": "2017-11-24T16:32:19.207270"
    },
    "colab": {
     "base_uri": "https://localhost:8080/",
     "height": 493
    },
    "id": "zV7-8V9UOl15",
    "outputId": "c329dd0c-1988-4c9b-b84b-783e859215c5"
   },
   "outputs": [
    {
     "data": {
      "text/plain": [
       "(-0.5, 232.5, 87.5, -0.5)"
      ]
     },
     "execution_count": 17,
     "metadata": {},
     "output_type": "execute_result"
    },
    {
     "data": {
      "image/png": "[encoded data removed]",
      "text/plain": [
       "<Figure size 1500x1000 with 1 Axes>"
      ]
     },
     "metadata": {},
     "output_type": "display_data"
    }
   ],
   "source": [
    "n_samples = 24\n",
    "\n",
    "# cria um grid com as imagens\n",
    "grid = torchvision.utils.make_grid(x_train[:n_samples].unsqueeze(dim=1), pad_value=1.0, padding=1)\n",
    "\n",
    "plt.figure(figsize=(15, 10))\n",
    "plt.imshow(grid.numpy().transpose(1, 2, 0))\n",
    "plt.axis('off')"
   ]
  },
  {
   "cell_type": "markdown",
   "metadata": {
    "id": "biPfk_htOl2H"
   },
   "source": [
    "### Visualizando uma imagem com o matplotlib"
   ]
  },
  {
   "cell_type": "code",
   "execution_count": 18,
   "metadata": {
    "ExecuteTime": {
     "end_time": "2017-11-24T15:44:51.413232",
     "start_time": "2017-11-24T15:44:51.251376"
    },
    "colab": {
     "base_uri": "https://localhost:8080/",
     "height": 447
    },
    "id": "tAs2Zy28Ol2I",
    "outputId": "8f5bce19-aef4-4686-dd24-00bbeba9f820",
    "scrolled": true
   },
   "outputs": [
    {
     "name": "stdout",
     "output_type": "stream",
     "text": [
      "class: tensor(5)\n"
     ]
    },
    {
     "data": {
      "image/png": "[encoded data removed]",
      "text/plain": [
       "<Figure size 640x480 with 1 Axes>"
      ]
     },
     "metadata": {},
     "output_type": "display_data"
    }
   ],
   "source": [
    "image  = x_train[0]\n",
    "target = y_train[0]\n",
    "\n",
    "plt.imshow(image.numpy(), cmap='gray')\n",
    "print('class:', target)"
   ]
  },
  {
   "cell_type": "markdown",
   "metadata": {
    "id": "jWlWHjOvOl2R"
   },
   "source": [
    "## Modelo"
   ]
  },
  {
   "cell_type": "code",
   "execution_count": 19,
   "metadata": {
    "ExecuteTime": {
     "end_time": "2017-11-24T15:44:51.419287",
     "start_time": "2017-11-24T15:44:51.415065"
    },
    "id": "8OeUJnUqOl2T"
   },
   "outputs": [],
   "source": [
    "model = torch.nn.Linear(28*28, 10) # 28*28 atributos de entrada e 10 neurônios na sáida"
   ]
  },
  {
   "cell_type": "markdown",
   "metadata": {
    "id": "COKUqRSGOl2d"
   },
   "source": [
    "### Testando um predict com poucas amostras"
   ]
  },
  {
   "cell_type": "code",
   "execution_count": 20,
   "metadata": {
    "colab": {
     "base_uri": "https://localhost:8080/"
    },
    "id": "Rxf7FUZOOl2g",
    "outputId": "ddb92ac8-2e5a-49d4-ee80-a1d9b18492d2"
   },
   "outputs": [
    {
     "data": {
      "text/plain": [
       "tensor([[ 0.1490,  0.1346,  0.1319, -0.2438, -0.2982,  0.2930,  0.0456, -0.1898,\n",
       "         -0.0593,  0.3429],\n",
       "        [-0.1455,  0.2473,  0.1089, -0.0844, -0.4187, -0.0125, -0.0991, -0.3453,\n",
       "          0.0969,  0.2867],\n",
       "        [-0.1251,  0.0707, -0.2302,  0.1259,  0.0744,  0.0073,  0.1253,  0.0156,\n",
       "         -0.0907,  0.0789],\n",
       "        [ 0.0220, -0.1294, -0.1861,  0.1798, -0.1068,  0.0521,  0.1219, -0.4705,\n",
       "         -0.0773, -0.0391],\n",
       "        [-0.1368,  0.1217, -0.1214,  0.0510,  0.0808,  0.2442,  0.2156, -0.2505,\n",
       "          0.0848,  0.0984]], grad_fn=<AddmmBackward0>)"
      ]
     },
     "execution_count": 20,
     "metadata": {},
     "output_type": "execute_result"
    }
   ],
   "source": [
    "xin = x_train[:5].view(-1,28*28)\n",
    "score = model(Variable(xin))\n",
    "score"
   ]
  },
  {
   "cell_type": "markdown",
   "metadata": {
    "id": "JsyINWhBOl2m"
   },
   "source": [
    "## Treinamento"
   ]
  },
  {
   "cell_type": "markdown",
   "metadata": {
    "id": "Cj7WB9NzOl2n"
   },
   "source": [
    "### Inicialização dos parâmetros"
   ]
  },
  {
   "cell_type": "code",
   "execution_count": 21,
   "metadata": {
    "ExecuteTime": {
     "end_time": "2017-11-24T15:44:51.425768",
     "start_time": "2017-11-24T15:44:51.420825"
    },
    "id": "xgTvQXGCOl2o"
   },
   "outputs": [],
   "source": [
    "epochs = 100\n",
    "learningRate = 0.5\n",
    "\n",
    "# Utilizaremos CrossEntropyLoss como função de perda\n",
    "criterion = torch.nn.CrossEntropyLoss()\n",
    "\n",
    "# Gradiente descendente\n",
    "optimizer = torch.optim.SGD(model.parameters(), lr=learningRate)"
   ]
  },
  {
   "cell_type": "markdown",
   "metadata": {
    "id": "fK50bgRzOl2z"
   },
   "source": [
    "### Visualização do grafo computacional da perda (loss)"
   ]
  },
  {
   "cell_type": "code",
   "execution_count": 22,
   "metadata": {
    "colab": {
     "base_uri": "https://localhost:8080/"
    },
    "id": "sLuv_VgNENQf",
    "outputId": "35971fb2-6340-4a92-a519-e659638187f2"
   },
   "outputs": [
    {
     "name": "stdout",
     "output_type": "stream",
     "text": [
      "Requirement already satisfied: graphviz in c:\\users\\mathe\\appdata\\local\\programs\\python\\python312\\lib\\site-packages (0.20.3)\n",
      "Collecting git+https://github.com/szagoruyko/pytorchviz\n",
      "  Cloning https://github.com/szagoruyko/pytorchviz to c:\\users\\mathe\\appdata\\local\\temp\\pip-req-build-s46vsrj1\n",
      "  Resolved https://github.com/szagoruyko/pytorchviz to commit 5cf04c13e601366f6b9cf5939b5af5144d55b887\n",
      "  Installing build dependencies: started\n",
      "  Installing build dependencies: finished with status 'done'\n",
      "  Getting requirements to build wheel: started\n",
      "  Getting requirements to build wheel: finished with status 'done'\n",
      "  Preparing metadata (pyproject.toml): started\n",
      "  Preparing metadata (pyproject.toml): finished with status 'done'\n",
      "Requirement already satisfied: torch in c:\\users\\mathe\\appdata\\local\\programs\\python\\python312\\lib\\site-packages (from torchviz==0.0.2) (2.7.0)\n",
      "Requirement already satisfied: graphviz in c:\\users\\mathe\\appdata\\local\\programs\\python\\python312\\lib\\site-packages (from torchviz==0.0.2) (0.20.3)\n",
      "Requirement already satisfied: filelock in c:\\users\\mathe\\appdata\\local\\programs\\python\\python312\\lib\\site-packages (from torch->torchviz==0.0.2) (3.18.0)\n",
      "Requirement already satisfied: typing-extensions>=4.10.0 in c:\\users\\mathe\\appdata\\local\\programs\\python\\python312\\lib\\site-packages (from torch->torchviz==0.0.2) (4.12.2)\n",
      "Requirement already satisfied: sympy>=1.13.3 in c:\\users\\mathe\\appdata\\local\\programs\\python\\python312\\lib\\site-packages (from torch->torchviz==0.0.2) (1.14.0)\n",
      "Requirement already satisfied: networkx in c:\\users\\mathe\\appdata\\local\\programs\\python\\python312\\lib\\site-packages (from torch->torchviz==0.0.2) (3.4.2)\n",
      "Requirement already satisfied: jinja2 in c:\\users\\mathe\\appdata\\local\\programs\\python\\python312\\lib\\site-packages (from torch->torchviz==0.0.2) (3.1.2)\n",
      "Requirement already satisfied: fsspec in c:\\users\\mathe\\appdata\\local\\programs\\python\\python312\\lib\\site-packages (from torch->torchviz==0.0.2) (2025.3.2)\n",
      "Requirement already satisfied: setuptools in c:\\users\\mathe\\appdata\\local\\programs\\python\\python312\\lib\\site-packages (from torch->torchviz==0.0.2) (72.2.0)\n",
      "Requirement already satisfied: mpmath<1.4,>=1.1.0 in c:\\users\\mathe\\appdata\\local\\programs\\python\\python312\\lib\\site-packages (from sympy>=1.13.3->torch->torchviz==0.0.2) (1.3.0)\n",
      "Requirement already satisfied: MarkupSafe>=2.0 in c:\\users\\mathe\\appdata\\local\\programs\\python\\python312\\lib\\site-packages (from jinja2->torch->torchviz==0.0.2) (2.1.3)\n"
     ]
    },
    {
     "name": "stderr",
     "output_type": "stream",
     "text": [
      "  Running command git clone --filter=blob:none --quiet https://github.com/szagoruyko/pytorchviz 'C:\\Users\\mathe\\AppData\\Local\\Temp\\pip-req-build-s46vsrj1'\n"
     ]
    }
   ],
   "source": [
    "!pip install graphviz\n",
    "!pip install git+https://github.com/szagoruyko/pytorchviz"
   ]
  },
  {
   "cell_type": "code",
   "execution_count": 23,
   "metadata": {
    "ExecuteTime": {
     "end_time": "2017-11-24T16:28:18.101867",
     "start_time": "2017-11-24T16:28:18.062312"
    },
    "colab": {
     "base_uri": "https://localhost:8080/"
    },
    "id": "icZLveYLOl20",
    "outputId": "d8bee05b-61f4-4eca-d978-2ac50a2fddb9"
   },
   "outputs": [
    {
     "data": {
      "text/plain": [
       "tensor(2.3229, grad_fn=<NllLossBackward0>)"
      ]
     },
     "execution_count": 23,
     "metadata": {},
     "output_type": "execute_result"
    }
   ],
   "source": [
    "from torchviz import make_dot, make_dot_from_trace\n",
    "y_pred = model(Variable(x_train.view(-1,28*28)))\n",
    "loss = criterion(y_pred, Variable(y_train))\n",
    "loss\n"
   ]
  },
  {
   "cell_type": "code",
   "execution_count": 24,
   "metadata": {
    "colab": {
     "base_uri": "https://localhost:8080/",
     "height": 543
    },
    "id": "U15ie_7ni0JE",
    "outputId": "ff615864-089a-467f-a38f-19041d450d6a"
   },
   "outputs": [
    {
     "data": {
      "image/svg+xml": [
       "<?xml version=\"1.0\" encoding=\"UTF-8\" standalone=\"no\"?>\n",
       "<!DOCTYPE svg PUBLIC \"-//W3C//DTD SVG 1.1//EN\"\n",
       " \"http://www.w3.org/Graphics/SVG/1.1/DTD/svg11.dtd\">\n",
       "<!-- Generated by graphviz version 12.2.1 (20241206.2353)\n",
       " -->\n",
       "<!-- Pages: 1 -->\n",
       "<svg width=\"214pt\" height=\"407pt\"\n",
       " viewBox=\"0.00 0.00 214.00 406.75\" xmlns=\"http://www.w3.org/2000/svg\" xmlns:xlink=\"http://www.w3.org/1999/xlink\">\n",
       "<g id=\"graph0\" class=\"graph\" transform=\"scale(1 1) rotate(0) translate(4 402.75)\">\n",
       "<polygon fill=\"white\" stroke=\"none\" points=\"-4,4 -4,-402.75 210,-402.75 210,4 -4,4\"/>\n",
       "<!-- 2703019805344 -->\n",
       "<g id=\"node1\" class=\"node\">\n",
       "<title>2703019805344</title>\n",
       "<polygon fill=\"#caff70\" stroke=\"black\" points=\"130,-32.75 76,-32.75 76,0 130,0 130,-32.75\"/>\n",
       "<text text-anchor=\"middle\" x=\"103\" y=\"-7.25\" font-family=\"monospace\" font-size=\"10.00\"> ()</text>\n",
       "</g>\n",
       "<!-- 2702976778880 -->\n",
       "<g id=\"node2\" class=\"node\">\n",
       "<title>2702976778880</title>\n",
       "<polygon fill=\"lightgrey\" stroke=\"black\" points=\"159,-89.5 47,-89.5 47,-68.75 159,-68.75 159,-89.5\"/>\n",
       "<text text-anchor=\"middle\" x=\"103\" y=\"-76\" font-family=\"monospace\" font-size=\"10.00\">NllLossBackward0</text>\n",
       "</g>\n",
       "<!-- 2702976778880&#45;&gt;2703019805344 -->\n",
       "<g id=\"edge8\" class=\"edge\">\n",
       "<title>2702976778880&#45;&gt;2703019805344</title>\n",
       "<path fill=\"none\" stroke=\"black\" d=\"M103,-68.36C103,-61.89 103,-53.05 103,-44.55\"/>\n",
       "<polygon fill=\"black\" stroke=\"black\" points=\"106.5,-44.55 103,-34.55 99.5,-44.55 106.5,-44.55\"/>\n",
       "</g>\n",
       "<!-- 2703021543376 -->\n",
       "<g id=\"node3\" class=\"node\">\n",
       "<title>2703021543376</title>\n",
       "<polygon fill=\"lightgrey\" stroke=\"black\" points=\"168,-146.25 38,-146.25 38,-125.5 168,-125.5 168,-146.25\"/>\n",
       "<text text-anchor=\"middle\" x=\"103\" y=\"-132.75\" font-family=\"monospace\" font-size=\"10.00\">LogSoftmaxBackward0</text>\n",
       "</g>\n",
       "<!-- 2703021543376&#45;&gt;2702976778880 -->\n",
       "<g id=\"edge1\" class=\"edge\">\n",
       "<title>2703021543376&#45;&gt;2702976778880</title>\n",
       "<path fill=\"none\" stroke=\"black\" d=\"M103,-125.09C103,-118.47 103,-109.47 103,-101.27\"/>\n",
       "<polygon fill=\"black\" stroke=\"black\" points=\"106.5,-101.34 103,-91.34 99.5,-101.34 106.5,-101.34\"/>\n",
       "</g>\n",
       "<!-- 2702975729616 -->\n",
       "<g id=\"node4\" class=\"node\">\n",
       "<title>2702975729616</title>\n",
       "<polygon fill=\"lightgrey\" stroke=\"black\" points=\"153,-203 53,-203 53,-182.25 153,-182.25 153,-203\"/>\n",
       "<text text-anchor=\"middle\" x=\"103\" y=\"-189.5\" font-family=\"monospace\" font-size=\"10.00\">AddmmBackward0</text>\n",
       "</g>\n",
       "<!-- 2702975729616&#45;&gt;2703021543376 -->\n",
       "<g id=\"edge2\" class=\"edge\">\n",
       "<title>2702975729616&#45;&gt;2703021543376</title>\n",
       "<path fill=\"none\" stroke=\"black\" d=\"M103,-181.84C103,-175.22 103,-166.22 103,-158.02\"/>\n",
       "<polygon fill=\"black\" stroke=\"black\" points=\"106.5,-158.09 103,-148.09 99.5,-158.09 106.5,-158.09\"/>\n",
       "</g>\n",
       "<!-- 2703021543184 -->\n",
       "<g id=\"node5\" class=\"node\">\n",
       "<title>2703021543184</title>\n",
       "<polygon fill=\"lightgrey\" stroke=\"black\" points=\"100,-259.75 0,-259.75 0,-239 100,-239 100,-259.75\"/>\n",
       "<text text-anchor=\"middle\" x=\"50\" y=\"-246.25\" font-family=\"monospace\" font-size=\"10.00\">AccumulateGrad</text>\n",
       "</g>\n",
       "<!-- 2703021543184&#45;&gt;2702975729616 -->\n",
       "<g id=\"edge3\" class=\"edge\">\n",
       "<title>2703021543184&#45;&gt;2702975729616</title>\n",
       "<path fill=\"none\" stroke=\"black\" d=\"M59.48,-238.59C66.79,-231.03 77.09,-220.39 85.84,-211.35\"/>\n",
       "<polygon fill=\"black\" stroke=\"black\" points=\"88.11,-214.04 92.55,-204.42 83.08,-209.17 88.11,-214.04\"/>\n",
       "</g>\n",
       "<!-- 2703019588528 -->\n",
       "<g id=\"node6\" class=\"node\">\n",
       "<title>2703019588528</title>\n",
       "<polygon fill=\"lightblue\" stroke=\"black\" points=\"77,-329.25 23,-329.25 23,-295.75 77,-295.75 77,-329.25\"/>\n",
       "<text text-anchor=\"middle\" x=\"50\" y=\"-315.75\" font-family=\"monospace\" font-size=\"10.00\">bias</text>\n",
       "<text text-anchor=\"middle\" x=\"50\" y=\"-303\" font-family=\"monospace\" font-size=\"10.00\"> (10)</text>\n",
       "</g>\n",
       "<!-- 2703019588528&#45;&gt;2703021543184 -->\n",
       "<g id=\"edge4\" class=\"edge\">\n",
       "<title>2703019588528&#45;&gt;2703021543184</title>\n",
       "<path fill=\"none\" stroke=\"black\" d=\"M50,-295.44C50,-288.1 50,-279.32 50,-271.46\"/>\n",
       "<polygon fill=\"black\" stroke=\"black\" points=\"53.5,-271.73 50,-261.73 46.5,-271.73 53.5,-271.73\"/>\n",
       "</g>\n",
       "<!-- 2703021543232 -->\n",
       "<g id=\"node7\" class=\"node\">\n",
       "<title>2703021543232</title>\n",
       "<polygon fill=\"lightgrey\" stroke=\"black\" points=\"194,-259.75 118,-259.75 118,-239 194,-239 194,-259.75\"/>\n",
       "<text text-anchor=\"middle\" x=\"156\" y=\"-246.25\" font-family=\"monospace\" font-size=\"10.00\">TBackward0</text>\n",
       "</g>\n",
       "<!-- 2703021543232&#45;&gt;2702975729616 -->\n",
       "<g id=\"edge5\" class=\"edge\">\n",
       "<title>2703021543232&#45;&gt;2702975729616</title>\n",
       "<path fill=\"none\" stroke=\"black\" d=\"M146.52,-238.59C139.21,-231.03 128.91,-220.39 120.16,-211.35\"/>\n",
       "<polygon fill=\"black\" stroke=\"black\" points=\"122.92,-209.17 113.45,-204.42 117.89,-214.04 122.92,-209.17\"/>\n",
       "</g>\n",
       "<!-- 2702077449632 -->\n",
       "<g id=\"node8\" class=\"node\">\n",
       "<title>2702077449632</title>\n",
       "<polygon fill=\"lightgrey\" stroke=\"black\" points=\"206,-322.88 106,-322.88 106,-302.12 206,-302.12 206,-322.88\"/>\n",
       "<text text-anchor=\"middle\" x=\"156\" y=\"-309.38\" font-family=\"monospace\" font-size=\"10.00\">AccumulateGrad</text>\n",
       "</g>\n",
       "<!-- 2702077449632&#45;&gt;2703021543232 -->\n",
       "<g id=\"edge6\" class=\"edge\">\n",
       "<title>2702077449632&#45;&gt;2703021543232</title>\n",
       "<path fill=\"none\" stroke=\"black\" d=\"M156,-301.68C156,-293.52 156,-281.63 156,-271.35\"/>\n",
       "<polygon fill=\"black\" stroke=\"black\" points=\"159.5,-271.48 156,-261.48 152.5,-271.48 159.5,-271.48\"/>\n",
       "</g>\n",
       "<!-- 2703018900880 -->\n",
       "<g id=\"node9\" class=\"node\">\n",
       "<title>2703018900880</title>\n",
       "<polygon fill=\"lightblue\" stroke=\"black\" points=\"194,-398.75 118,-398.75 118,-365.25 194,-365.25 194,-398.75\"/>\n",
       "<text text-anchor=\"middle\" x=\"156\" y=\"-385.25\" font-family=\"monospace\" font-size=\"10.00\">weight</text>\n",
       "<text text-anchor=\"middle\" x=\"156\" y=\"-372.5\" font-family=\"monospace\" font-size=\"10.00\"> (10, 784)</text>\n",
       "</g>\n",
       "<!-- 2703018900880&#45;&gt;2702077449632 -->\n",
       "<g id=\"edge7\" class=\"edge\">\n",
       "<title>2703018900880&#45;&gt;2702077449632</title>\n",
       "<path fill=\"none\" stroke=\"black\" d=\"M156,-365C156,-355.9 156,-344.39 156,-334.57\"/>\n",
       "<polygon fill=\"black\" stroke=\"black\" points=\"159.5,-334.84 156,-324.84 152.5,-334.84 159.5,-334.84\"/>\n",
       "</g>\n",
       "</g>\n",
       "</svg>\n"
      ],
      "text/plain": [
       "<graphviz.graphs.Digraph at 0x27555d9d640>"
      ]
     },
     "execution_count": 24,
     "metadata": {},
     "output_type": "execute_result"
    }
   ],
   "source": [
    "p = make_dot(loss, dict(model.named_parameters()))\n",
    "p"
   ]
  },
  {
   "cell_type": "markdown",
   "metadata": {
    "id": "jnUCb6j_Ol23"
   },
   "source": [
    "### Laço de treinamento dos pesos"
   ]
  },
  {
   "cell_type": "code",
   "execution_count": 34,
   "metadata": {
    "ExecuteTime": {
     "end_time": "2017-11-24T15:44:51.678678",
     "start_time": "2017-11-24T15:44:51.427695"
    },
    "id": "g5aavLLTOl24"
   },
   "outputs": [
    {
     "name": "stdout",
     "output_type": "stream",
     "text": [
      "Época   1 | Perda: 0.1338 | Acurácia: 0.9770\n",
      "Época   1 | Gradiente (classe 4): [0. 0. 0. 0. 0.] ...\n",
      "Época   2 | Perda: 0.1335 | Acurácia: 0.9770\n",
      "Época   2 | Gradiente (classe 4): [0. 0. 0. 0. 0.] ...\n",
      "Época   3 | Perda: 0.1332 | Acurácia: 0.9770\n",
      "Época   3 | Gradiente (classe 4): [0. 0. 0. 0. 0.] ...\n",
      "Época   4 | Perda: 0.1328 | Acurácia: 0.9770\n",
      "Época   4 | Gradiente (classe 4): [0. 0. 0. 0. 0.] ...\n",
      "Época   5 | Perda: 0.1325 | Acurácia: 0.9780\n",
      "Época   5 | Gradiente (classe 4): [0. 0. 0. 0. 0.] ...\n",
      "Época   6 | Perda: 0.1322 | Acurácia: 0.9780\n",
      "Época   6 | Gradiente (classe 4): [0. 0. 0. 0. 0.] ...\n",
      "Época   7 | Perda: 0.1318 | Acurácia: 0.9780\n",
      "Época   7 | Gradiente (classe 4): [0. 0. 0. 0. 0.] ...\n",
      "Época   8 | Perda: 0.1315 | Acurácia: 0.9790\n",
      "Época   8 | Gradiente (classe 4): [0. 0. 0. 0. 0.] ...\n",
      "Época   9 | Perda: 0.1312 | Acurácia: 0.9790\n",
      "Época   9 | Gradiente (classe 4): [0. 0. 0. 0. 0.] ...\n",
      "Época  10 | Perda: 0.1308 | Acurácia: 0.9790\n",
      "Época  10 | Gradiente (classe 4): [0. 0. 0. 0. 0.] ...\n",
      "Época  11 | Perda: 0.1305 | Acurácia: 0.9790\n",
      "Época  11 | Gradiente (classe 4): [0. 0. 0. 0. 0.] ...\n",
      "Época  12 | Perda: 0.1302 | Acurácia: 0.9790\n",
      "Época  12 | Gradiente (classe 4): [0. 0. 0. 0. 0.] ...\n",
      "Época  13 | Perda: 0.1299 | Acurácia: 0.9790\n",
      "Época  13 | Gradiente (classe 4): [0. 0. 0. 0. 0.] ...\n",
      "Época  14 | Perda: 0.1296 | Acurácia: 0.9790\n",
      "Época  14 | Gradiente (classe 4): [0. 0. 0. 0. 0.] ...\n",
      "Época  15 | Perda: 0.1292 | Acurácia: 0.9790\n",
      "Época  15 | Gradiente (classe 4): [0. 0. 0. 0. 0.] ...\n",
      "Época  16 | Perda: 0.1289 | Acurácia: 0.9790\n",
      "Época  16 | Gradiente (classe 4): [0. 0. 0. 0. 0.] ...\n",
      "Época  17 | Perda: 0.1286 | Acurácia: 0.9790\n",
      "Época  17 | Gradiente (classe 4): [0. 0. 0. 0. 0.] ...\n",
      "Época  18 | Perda: 0.1283 | Acurácia: 0.9790\n",
      "Época  18 | Gradiente (classe 4): [0. 0. 0. 0. 0.] ...\n",
      "Época  19 | Perda: 0.1280 | Acurácia: 0.9790\n",
      "Época  19 | Gradiente (classe 4): [0. 0. 0. 0. 0.] ...\n",
      "Época  20 | Perda: 0.1277 | Acurácia: 0.9790\n",
      "Época  20 | Gradiente (classe 4): [0. 0. 0. 0. 0.] ...\n",
      "Época  21 | Perda: 0.1274 | Acurácia: 0.9790\n",
      "Época  21 | Gradiente (classe 4): [0. 0. 0. 0. 0.] ...\n",
      "Época  22 | Perda: 0.1270 | Acurácia: 0.9790\n",
      "Época  22 | Gradiente (classe 4): [0. 0. 0. 0. 0.] ...\n",
      "Época  23 | Perda: 0.1267 | Acurácia: 0.9790\n",
      "Época  23 | Gradiente (classe 4): [0. 0. 0. 0. 0.] ...\n",
      "Época  24 | Perda: 0.1264 | Acurácia: 0.9790\n",
      "Época  24 | Gradiente (classe 4): [0. 0. 0. 0. 0.] ...\n",
      "Época  25 | Perda: 0.1261 | Acurácia: 0.9790\n",
      "Época  25 | Gradiente (classe 4): [0. 0. 0. 0. 0.] ...\n",
      "Época  26 | Perda: 0.1258 | Acurácia: 0.9790\n",
      "Época  26 | Gradiente (classe 4): [0. 0. 0. 0. 0.] ...\n",
      "Época  27 | Perda: 0.1255 | Acurácia: 0.9790\n",
      "Época  27 | Gradiente (classe 4): [0. 0. 0. 0. 0.] ...\n",
      "Época  28 | Perda: 0.1252 | Acurácia: 0.9800\n",
      "Época  28 | Gradiente (classe 4): [0. 0. 0. 0. 0.] ...\n",
      "Época  29 | Perda: 0.1249 | Acurácia: 0.9800\n",
      "Época  29 | Gradiente (classe 4): [0. 0. 0. 0. 0.] ...\n",
      "Época  30 | Perda: 0.1246 | Acurácia: 0.9800\n",
      "Época  30 | Gradiente (classe 4): [0. 0. 0. 0. 0.] ...\n",
      "Época  31 | Perda: 0.1243 | Acurácia: 0.9810\n",
      "Época  31 | Gradiente (classe 4): [0. 0. 0. 0. 0.] ...\n",
      "Época  32 | Perda: 0.1240 | Acurácia: 0.9810\n",
      "Época  32 | Gradiente (classe 4): [0. 0. 0. 0. 0.] ...\n",
      "Época  33 | Perda: 0.1237 | Acurácia: 0.9810\n",
      "Época  33 | Gradiente (classe 4): [0. 0. 0. 0. 0.] ...\n",
      "Época  34 | Perda: 0.1234 | Acurácia: 0.9810\n",
      "Época  34 | Gradiente (classe 4): [0. 0. 0. 0. 0.] ...\n",
      "Época  35 | Perda: 0.1231 | Acurácia: 0.9810\n",
      "Época  35 | Gradiente (classe 4): [0. 0. 0. 0. 0.] ...\n",
      "Época  36 | Perda: 0.1229 | Acurácia: 0.9820\n",
      "Época  36 | Gradiente (classe 4): [0. 0. 0. 0. 0.] ...\n",
      "Época  37 | Perda: 0.1226 | Acurácia: 0.9820\n",
      "Época  37 | Gradiente (classe 4): [0. 0. 0. 0. 0.] ...\n",
      "Época  38 | Perda: 0.1223 | Acurácia: 0.9820\n",
      "Época  38 | Gradiente (classe 4): [0. 0. 0. 0. 0.] ...\n",
      "Época  39 | Perda: 0.1220 | Acurácia: 0.9830\n",
      "Época  39 | Gradiente (classe 4): [0. 0. 0. 0. 0.] ...\n",
      "Época  40 | Perda: 0.1217 | Acurácia: 0.9830\n",
      "Época  40 | Gradiente (classe 4): [0. 0. 0. 0. 0.] ...\n",
      "Época  41 | Perda: 0.1214 | Acurácia: 0.9830\n",
      "Época  41 | Gradiente (classe 4): [0. 0. 0. 0. 0.] ...\n",
      "Época  42 | Perda: 0.1211 | Acurácia: 0.9830\n",
      "Época  42 | Gradiente (classe 4): [0. 0. 0. 0. 0.] ...\n",
      "Época  43 | Perda: 0.1208 | Acurácia: 0.9830\n",
      "Época  43 | Gradiente (classe 4): [0. 0. 0. 0. 0.] ...\n",
      "Época  44 | Perda: 0.1206 | Acurácia: 0.9830\n",
      "Época  44 | Gradiente (classe 4): [0. 0. 0. 0. 0.] ...\n",
      "Época  45 | Perda: 0.1203 | Acurácia: 0.9830\n",
      "Época  45 | Gradiente (classe 4): [0. 0. 0. 0. 0.] ...\n",
      "Época  46 | Perda: 0.1200 | Acurácia: 0.9830\n",
      "Época  46 | Gradiente (classe 4): [0. 0. 0. 0. 0.] ...\n",
      "Época  47 | Perda: 0.1197 | Acurácia: 0.9840\n",
      "Época  47 | Gradiente (classe 4): [0. 0. 0. 0. 0.] ...\n",
      "Época  48 | Perda: 0.1195 | Acurácia: 0.9840\n",
      "Época  48 | Gradiente (classe 4): [0. 0. 0. 0. 0.] ...\n",
      "Época  49 | Perda: 0.1192 | Acurácia: 0.9840\n",
      "Época  49 | Gradiente (classe 4): [0. 0. 0. 0. 0.] ...\n",
      "Época  50 | Perda: 0.1189 | Acurácia: 0.9840\n",
      "Época  50 | Gradiente (classe 4): [0. 0. 0. 0. 0.] ...\n",
      "Época  51 | Perda: 0.1186 | Acurácia: 0.9840\n",
      "Época  51 | Gradiente (classe 4): [0. 0. 0. 0. 0.] ...\n",
      "Época  52 | Perda: 0.1184 | Acurácia: 0.9840\n",
      "Época  52 | Gradiente (classe 4): [0. 0. 0. 0. 0.] ...\n",
      "Época  53 | Perda: 0.1181 | Acurácia: 0.9840\n",
      "Época  53 | Gradiente (classe 4): [0. 0. 0. 0. 0.] ...\n",
      "Época  54 | Perda: 0.1178 | Acurácia: 0.9850\n",
      "Época  54 | Gradiente (classe 4): [0. 0. 0. 0. 0.] ...\n",
      "Época  55 | Perda: 0.1175 | Acurácia: 0.9850\n",
      "Época  55 | Gradiente (classe 4): [0. 0. 0. 0. 0.] ...\n",
      "Época  56 | Perda: 0.1173 | Acurácia: 0.9850\n",
      "Época  56 | Gradiente (classe 4): [0. 0. 0. 0. 0.] ...\n",
      "Época  57 | Perda: 0.1170 | Acurácia: 0.9850\n",
      "Época  57 | Gradiente (classe 4): [0. 0. 0. 0. 0.] ...\n",
      "Época  58 | Perda: 0.1167 | Acurácia: 0.9850\n",
      "Época  58 | Gradiente (classe 4): [0. 0. 0. 0. 0.] ...\n",
      "Época  59 | Perda: 0.1165 | Acurácia: 0.9850\n",
      "Época  59 | Gradiente (classe 4): [0. 0. 0. 0. 0.] ...\n",
      "Época  60 | Perda: 0.1162 | Acurácia: 0.9850\n",
      "Época  60 | Gradiente (classe 4): [0. 0. 0. 0. 0.] ...\n",
      "Época  61 | Perda: 0.1160 | Acurácia: 0.9850\n",
      "Época  61 | Gradiente (classe 4): [0. 0. 0. 0. 0.] ...\n",
      "Época  62 | Perda: 0.1157 | Acurácia: 0.9850\n",
      "Época  62 | Gradiente (classe 4): [0. 0. 0. 0. 0.] ...\n",
      "Época  63 | Perda: 0.1154 | Acurácia: 0.9870\n",
      "Época  63 | Gradiente (classe 4): [0. 0. 0. 0. 0.] ...\n",
      "Época  64 | Perda: 0.1152 | Acurácia: 0.9870\n",
      "Época  64 | Gradiente (classe 4): [0. 0. 0. 0. 0.] ...\n",
      "Época  65 | Perda: 0.1149 | Acurácia: 0.9870\n",
      "Época  65 | Gradiente (classe 4): [0. 0. 0. 0. 0.] ...\n",
      "Época  66 | Perda: 0.1147 | Acurácia: 0.9870\n",
      "Época  66 | Gradiente (classe 4): [0. 0. 0. 0. 0.] ...\n",
      "Época  67 | Perda: 0.1144 | Acurácia: 0.9870\n",
      "Época  67 | Gradiente (classe 4): [0. 0. 0. 0. 0.] ...\n",
      "Época  68 | Perda: 0.1141 | Acurácia: 0.9870\n",
      "Época  68 | Gradiente (classe 4): [0. 0. 0. 0. 0.] ...\n",
      "Época  69 | Perda: 0.1139 | Acurácia: 0.9870\n",
      "Época  69 | Gradiente (classe 4): [0. 0. 0. 0. 0.] ...\n",
      "Época  70 | Perda: 0.1136 | Acurácia: 0.9870\n",
      "Época  70 | Gradiente (classe 4): [0. 0. 0. 0. 0.] ...\n",
      "Época  71 | Perda: 0.1134 | Acurácia: 0.9870\n",
      "Época  71 | Gradiente (classe 4): [0. 0. 0. 0. 0.] ...\n",
      "Época  72 | Perda: 0.1131 | Acurácia: 0.9870\n",
      "Época  72 | Gradiente (classe 4): [0. 0. 0. 0. 0.] ...\n",
      "Época  73 | Perda: 0.1129 | Acurácia: 0.9870\n",
      "Época  73 | Gradiente (classe 4): [0. 0. 0. 0. 0.] ...\n",
      "Época  74 | Perda: 0.1126 | Acurácia: 0.9870\n",
      "Época  74 | Gradiente (classe 4): [0. 0. 0. 0. 0.] ...\n",
      "Época  75 | Perda: 0.1124 | Acurácia: 0.9870\n",
      "Época  75 | Gradiente (classe 4): [0. 0. 0. 0. 0.] ...\n",
      "Época  76 | Perda: 0.1121 | Acurácia: 0.9870\n",
      "Época  76 | Gradiente (classe 4): [0. 0. 0. 0. 0.] ...\n",
      "Época  77 | Perda: 0.1119 | Acurácia: 0.9870\n",
      "Época  77 | Gradiente (classe 4): [0. 0. 0. 0. 0.] ...\n",
      "Época  78 | Perda: 0.1117 | Acurácia: 0.9870\n",
      "Época  78 | Gradiente (classe 4): [0. 0. 0. 0. 0.] ...\n",
      "Época  79 | Perda: 0.1114 | Acurácia: 0.9870\n",
      "Época  79 | Gradiente (classe 4): [0. 0. 0. 0. 0.] ...\n",
      "Época  80 | Perda: 0.1112 | Acurácia: 0.9870\n",
      "Época  80 | Gradiente (classe 4): [0. 0. 0. 0. 0.] ...\n",
      "Época  81 | Perda: 0.1109 | Acurácia: 0.9880\n",
      "Época  81 | Gradiente (classe 4): [0. 0. 0. 0. 0.] ...\n",
      "Época  82 | Perda: 0.1107 | Acurácia: 0.9880\n",
      "Época  82 | Gradiente (classe 4): [0. 0. 0. 0. 0.] ...\n",
      "Época  83 | Perda: 0.1104 | Acurácia: 0.9890\n",
      "Época  83 | Gradiente (classe 4): [0. 0. 0. 0. 0.] ...\n",
      "Época  84 | Perda: 0.1102 | Acurácia: 0.9890\n",
      "Época  84 | Gradiente (classe 4): [0. 0. 0. 0. 0.] ...\n",
      "Época  85 | Perda: 0.1100 | Acurácia: 0.9890\n",
      "Época  85 | Gradiente (classe 4): [0. 0. 0. 0. 0.] ...\n",
      "Época  86 | Perda: 0.1097 | Acurácia: 0.9890\n",
      "Época  86 | Gradiente (classe 4): [0. 0. 0. 0. 0.] ...\n",
      "Época  87 | Perda: 0.1095 | Acurácia: 0.9890\n",
      "Época  87 | Gradiente (classe 4): [0. 0. 0. 0. 0.] ...\n",
      "Época  88 | Perda: 0.1093 | Acurácia: 0.9900\n",
      "Época  88 | Gradiente (classe 4): [0. 0. 0. 0. 0.] ...\n",
      "Época  89 | Perda: 0.1090 | Acurácia: 0.9900\n",
      "Época  89 | Gradiente (classe 4): [0. 0. 0. 0. 0.] ...\n",
      "Época  90 | Perda: 0.1088 | Acurácia: 0.9900\n",
      "Época  90 | Gradiente (classe 4): [0. 0. 0. 0. 0.] ...\n",
      "Época  91 | Perda: 0.1086 | Acurácia: 0.9900\n",
      "Época  91 | Gradiente (classe 4): [0. 0. 0. 0. 0.] ...\n",
      "Época  92 | Perda: 0.1083 | Acurácia: 0.9900\n",
      "Época  92 | Gradiente (classe 4): [0. 0. 0. 0. 0.] ...\n",
      "Época  93 | Perda: 0.1081 | Acurácia: 0.9900\n",
      "Época  93 | Gradiente (classe 4): [0. 0. 0. 0. 0.] ...\n",
      "Época  94 | Perda: 0.1079 | Acurácia: 0.9910\n",
      "Época  94 | Gradiente (classe 4): [0. 0. 0. 0. 0.] ...\n",
      "Época  95 | Perda: 0.1076 | Acurácia: 0.9910\n",
      "Época  95 | Gradiente (classe 4): [0. 0. 0. 0. 0.] ...\n",
      "Época  96 | Perda: 0.1074 | Acurácia: 0.9910\n",
      "Época  96 | Gradiente (classe 4): [0. 0. 0. 0. 0.] ...\n",
      "Época  97 | Perda: 0.1072 | Acurácia: 0.9910\n",
      "Época  97 | Gradiente (classe 4): [0. 0. 0. 0. 0.] ...\n",
      "Época  98 | Perda: 0.1070 | Acurácia: 0.9910\n",
      "Época  98 | Gradiente (classe 4): [0. 0. 0. 0. 0.] ...\n",
      "Época  99 | Perda: 0.1067 | Acurácia: 0.9910\n",
      "Época  99 | Gradiente (classe 4): [0. 0. 0. 0. 0.] ...\n",
      "Época 100 | Perda: 0.1065 | Acurácia: 0.9910\n",
      "Época 100 | Gradiente (classe 4): [0. 0. 0. 0. 0.] ...\n"
     ]
    }
   ],
   "source": [
    "import numpy\n",
    "losses = []\n",
    "zs = []\n",
    "\n",
    "for i in range(epochs):\n",
    "    # Transforma a entrada para uma dimensão\n",
    "    inputs = Variable(x_train.view(-1, 28 * 28))\n",
    "    # Predict da rede\n",
    "    outputs = model(inputs)\n",
    "\n",
    "    # z0 a z9\n",
    "    zs.append(outputs[1].detach().numpy())\n",
    "\n",
    "    # calcula a perda\n",
    "    loss = criterion(outputs, Variable(y_train))\n",
    "\n",
    "    # zero, backpropagation, ajusta parâmetros pelo gradiente descendente\n",
    "    optimizer.zero_grad()\n",
    "    loss.backward()\n",
    "    optimizer.step()\n",
    "\n",
    "    losses.append(loss.item())\n",
    "\n",
    "    _, predicts = torch.max(outputs, 1)\n",
    "\n",
    "    y_pred = predicts.data\n",
    "    accuracy = (y_pred.numpy() == y_train.numpy()).mean()\n",
    "    # Exercíco 1\n",
    "    print(f\"Época {i+1:3d} | Perda: {loss.item():.4f} | Acurácia: {accuracy:.4f}\")\n",
    "\n",
    "    # Exercício 2\n",
    "    grad_class4 = model.weight.grad[4]\n",
    "    print(f\"Época {i+1:3d} | Gradiente (classe 4): {grad_class4[:5].detach().numpy()} ...\")  \n"
   ]
  },
  {
   "cell_type": "code",
   "execution_count": 26,
   "metadata": {
    "ExecuteTime": {
     "end_time": "2017-11-24T15:44:51.685301",
     "start_time": "2017-11-24T15:44:51.680419"
    },
    "colab": {
     "base_uri": "https://localhost:8080/"
    },
    "id": "menkKvteOl27",
    "outputId": "84a9a32b-72b0-43a8-8d92-0cd6e836666c"
   },
   "outputs": [
    {
     "name": "stdout",
     "output_type": "stream",
     "text": [
      "Final loss: 0.2650236487388611\n"
     ]
    }
   ],
   "source": [
    "print('Final loss:', loss.item())"
   ]
  },
  {
   "cell_type": "markdown",
   "metadata": {
    "id": "j1pLKxlqOl3F"
   },
   "source": [
    "### Visualizando gráfico de perda durante o treinamento"
   ]
  },
  {
   "cell_type": "code",
   "execution_count": 27,
   "metadata": {
    "ExecuteTime": {
     "end_time": "2017-11-24T15:44:56.787741",
     "start_time": "2017-11-24T15:44:56.627754"
    },
    "colab": {
     "base_uri": "https://localhost:8080/",
     "height": 447
    },
    "id": "UlivLNgcOl3G",
    "outputId": "2fe248a9-3101-4973-b3e9-426c4861efc7"
   },
   "outputs": [
    {
     "data": {
      "text/plain": [
       "[<matplotlib.lines.Line2D at 0x27555f6c380>]"
      ]
     },
     "execution_count": 27,
     "metadata": {},
     "output_type": "execute_result"
    },
    {
     "data": {
      "image/png": "[encoded data removed]",
      "text/plain": [
       "<Figure size 640x480 with 1 Axes>"
      ]
     },
     "metadata": {},
     "output_type": "display_data"
    }
   ],
   "source": [
    "plt.plot(losses)"
   ]
  },
  {
   "cell_type": "markdown",
   "metadata": {
    "id": "zUTfdh5VOl3N"
   },
   "source": [
    "## Avaliação"
   ]
  },
  {
   "cell_type": "markdown",
   "metadata": {
    "id": "XgFPZ9hNOl3O"
   },
   "source": [
    "### Acurácia tanto no conjunto de treinamento como no conjunto de testes"
   ]
  },
  {
   "cell_type": "code",
   "execution_count": 28,
   "metadata": {
    "ExecuteTime": {
     "end_time": "2017-11-24T15:50:29.922115",
     "start_time": "2017-11-24T15:50:29.914004"
    },
    "colab": {
     "base_uri": "https://localhost:8080/"
    },
    "id": "JMo5hSBhOl3P",
    "outputId": "5d9a4717-3438-4a27-db46-aad0c94d6279"
   },
   "outputs": [
    {
     "name": "stdout",
     "output_type": "stream",
     "text": [
      "Accuracy: 0.942\n"
     ]
    }
   ],
   "source": [
    "def predict(model, input_data):\n",
    "    outputs = model(Variable(input_data))\n",
    "    _, predicts = torch.max(outputs, 1)\n",
    "\n",
    "    return predicts.data\n",
    "\n",
    "y_pred = predict(model, x_train.view(-1, 28*28))\n",
    "accuracy = (y_pred.numpy() == y_train.numpy()).mean()\n",
    "print('Accuracy:', accuracy)"
   ]
  },
  {
   "cell_type": "markdown",
   "metadata": {
    "id": "Po0mlGpCOl3W"
   },
   "source": [
    "### Matriz de confusão com dados de treinamento e teste"
   ]
  },
  {
   "cell_type": "code",
   "execution_count": 29,
   "metadata": {
    "ExecuteTime": {
     "end_time": "2017-11-24T15:51:40.706177",
     "start_time": "2017-11-24T15:51:40.679474"
    },
    "colab": {
     "base_uri": "https://localhost:8080/",
     "height": 411
    },
    "id": "PtA3ZAUjOl3X",
    "outputId": "cce2c7d5-53bf-41f6-add0-0cd39a48caf5"
   },
   "outputs": [
    {
     "name": "stdout",
     "output_type": "stream",
     "text": [
      "Matriz de confusão:\n"
     ]
    },
    {
     "data": {
      "text/html": [
       "<div>\n",
       "<style scoped>\n",
       "    .dataframe tbody tr th:only-of-type {\n",
       "        vertical-align: middle;\n",
       "    }\n",
       "\n",
       "    .dataframe tbody tr th {\n",
       "        vertical-align: top;\n",
       "    }\n",
       "\n",
       "    .dataframe thead th {\n",
       "        text-align: right;\n",
       "    }\n",
       "</style>\n",
       "<table border=\"1\" class=\"dataframe\">\n",
       "  <thead>\n",
       "    <tr style=\"text-align: right;\">\n",
       "      <th>col_0</th>\n",
       "      <th>0</th>\n",
       "      <th>1</th>\n",
       "      <th>2</th>\n",
       "      <th>3</th>\n",
       "      <th>4</th>\n",
       "      <th>5</th>\n",
       "      <th>6</th>\n",
       "      <th>7</th>\n",
       "      <th>8</th>\n",
       "      <th>9</th>\n",
       "    </tr>\n",
       "    <tr>\n",
       "      <th>row_0</th>\n",
       "      <th></th>\n",
       "      <th></th>\n",
       "      <th></th>\n",
       "      <th></th>\n",
       "      <th></th>\n",
       "      <th></th>\n",
       "      <th></th>\n",
       "      <th></th>\n",
       "      <th></th>\n",
       "      <th></th>\n",
       "    </tr>\n",
       "  </thead>\n",
       "  <tbody>\n",
       "    <tr>\n",
       "      <th>0</th>\n",
       "      <td>96</td>\n",
       "      <td>0</td>\n",
       "      <td>1</td>\n",
       "      <td>0</td>\n",
       "      <td>0</td>\n",
       "      <td>0</td>\n",
       "      <td>1</td>\n",
       "      <td>0</td>\n",
       "      <td>0</td>\n",
       "      <td>2</td>\n",
       "    </tr>\n",
       "    <tr>\n",
       "      <th>1</th>\n",
       "      <td>0</td>\n",
       "      <td>111</td>\n",
       "      <td>1</td>\n",
       "      <td>0</td>\n",
       "      <td>0</td>\n",
       "      <td>0</td>\n",
       "      <td>2</td>\n",
       "      <td>3</td>\n",
       "      <td>1</td>\n",
       "      <td>0</td>\n",
       "    </tr>\n",
       "    <tr>\n",
       "      <th>2</th>\n",
       "      <td>0</td>\n",
       "      <td>0</td>\n",
       "      <td>91</td>\n",
       "      <td>1</td>\n",
       "      <td>0</td>\n",
       "      <td>1</td>\n",
       "      <td>0</td>\n",
       "      <td>1</td>\n",
       "      <td>2</td>\n",
       "      <td>1</td>\n",
       "    </tr>\n",
       "    <tr>\n",
       "      <th>3</th>\n",
       "      <td>0</td>\n",
       "      <td>0</td>\n",
       "      <td>0</td>\n",
       "      <td>88</td>\n",
       "      <td>0</td>\n",
       "      <td>2</td>\n",
       "      <td>0</td>\n",
       "      <td>0</td>\n",
       "      <td>0</td>\n",
       "      <td>0</td>\n",
       "    </tr>\n",
       "    <tr>\n",
       "      <th>4</th>\n",
       "      <td>0</td>\n",
       "      <td>0</td>\n",
       "      <td>1</td>\n",
       "      <td>0</td>\n",
       "      <td>102</td>\n",
       "      <td>2</td>\n",
       "      <td>0</td>\n",
       "      <td>2</td>\n",
       "      <td>0</td>\n",
       "      <td>3</td>\n",
       "    </tr>\n",
       "    <tr>\n",
       "      <th>5</th>\n",
       "      <td>0</td>\n",
       "      <td>2</td>\n",
       "      <td>0</td>\n",
       "      <td>1</td>\n",
       "      <td>0</td>\n",
       "      <td>81</td>\n",
       "      <td>0</td>\n",
       "      <td>0</td>\n",
       "      <td>2</td>\n",
       "      <td>1</td>\n",
       "    </tr>\n",
       "    <tr>\n",
       "      <th>6</th>\n",
       "      <td>1</td>\n",
       "      <td>0</td>\n",
       "      <td>1</td>\n",
       "      <td>1</td>\n",
       "      <td>2</td>\n",
       "      <td>2</td>\n",
       "      <td>91</td>\n",
       "      <td>0</td>\n",
       "      <td>0</td>\n",
       "      <td>0</td>\n",
       "    </tr>\n",
       "    <tr>\n",
       "      <th>7</th>\n",
       "      <td>0</td>\n",
       "      <td>1</td>\n",
       "      <td>1</td>\n",
       "      <td>1</td>\n",
       "      <td>0</td>\n",
       "      <td>0</td>\n",
       "      <td>0</td>\n",
       "      <td>110</td>\n",
       "      <td>0</td>\n",
       "      <td>3</td>\n",
       "    </tr>\n",
       "    <tr>\n",
       "      <th>8</th>\n",
       "      <td>0</td>\n",
       "      <td>2</td>\n",
       "      <td>2</td>\n",
       "      <td>0</td>\n",
       "      <td>0</td>\n",
       "      <td>2</td>\n",
       "      <td>0</td>\n",
       "      <td>0</td>\n",
       "      <td>82</td>\n",
       "      <td>0</td>\n",
       "    </tr>\n",
       "    <tr>\n",
       "      <th>9</th>\n",
       "      <td>0</td>\n",
       "      <td>0</td>\n",
       "      <td>1</td>\n",
       "      <td>1</td>\n",
       "      <td>1</td>\n",
       "      <td>2</td>\n",
       "      <td>0</td>\n",
       "      <td>1</td>\n",
       "      <td>0</td>\n",
       "      <td>90</td>\n",
       "    </tr>\n",
       "  </tbody>\n",
       "</table>\n",
       "</div>"
      ],
      "text/plain": [
       "col_0   0    1   2   3    4   5   6    7   8   9\n",
       "row_0                                           \n",
       "0      96    0   1   0    0   0   1    0   0   2\n",
       "1       0  111   1   0    0   0   2    3   1   0\n",
       "2       0    0  91   1    0   1   0    1   2   1\n",
       "3       0    0   0  88    0   2   0    0   0   0\n",
       "4       0    0   1   0  102   2   0    2   0   3\n",
       "5       0    2   0   1    0  81   0    0   2   1\n",
       "6       1    0   1   1    2   2  91    0   0   0\n",
       "7       0    1   1   1    0   0   0  110   0   3\n",
       "8       0    2   2   0    0   2   0    0  82   0\n",
       "9       0    0   1   1    1   2   0    1   0  90"
      ]
     },
     "execution_count": 29,
     "metadata": {},
     "output_type": "execute_result"
    }
   ],
   "source": [
    "print('Matriz de confusão:')\n",
    "pd.crosstab(y_pred.numpy(), y_train.numpy())"
   ]
  },
  {
   "cell_type": "markdown",
   "metadata": {
    "id": "6Df5Xz6rOl3c"
   },
   "source": [
    "## Visualizando a matriz de pesos treinados"
   ]
  },
  {
   "cell_type": "markdown",
   "metadata": {
    "id": "DLo6HaWGOl3n"
   },
   "source": [
    "Observe que a matriz de peso treinado para cada classe mostra a importância dos pesos associados aos caracteres de cada classe."
   ]
  },
  {
   "cell_type": "code",
   "execution_count": 30,
   "metadata": {
    "ExecuteTime": {
     "end_time": "2017-11-24T16:34:49.367135",
     "start_time": "2017-11-24T16:34:49.204452"
    },
    "colab": {
     "base_uri": "https://localhost:8080/",
     "height": 465
    },
    "id": "uoBSV4EqOl3q",
    "outputId": "8a3e7f08-bac6-4001-d856-1bf102663cff"
   },
   "outputs": [
    {
     "name": "stdout",
     "output_type": "stream",
     "text": [
      "weights: torch.Size([10, 784])\n",
      "bias:    torch.Size([10])\n"
     ]
    },
    {
     "data": {
      "image/png": "[encoded data removed]",
      "text/plain": [
       "<Figure size 640x480 with 1 Axes>"
      ]
     },
     "metadata": {},
     "output_type": "display_data"
    }
   ],
   "source": [
    "weights = model.state_dict()['weight']\n",
    "print('weights:', weights.shape)\n",
    "\n",
    "bias = model.state_dict()['bias']\n",
    "print('bias:   ', bias.shape)\n",
    "\n",
    "# Visualizando pesos da classe 3\n",
    "plt.imshow(weights[3, :].numpy().reshape((28,28)),cmap = 'gray')\n",
    "plt.show()"
   ]
  },
  {
   "cell_type": "markdown",
   "metadata": {
    "id": "eN6W4vnfOl3w"
   },
   "source": [
    "### Visualizando os pesos de todas as classes"
   ]
  },
  {
   "cell_type": "code",
   "execution_count": 31,
   "metadata": {
    "ExecuteTime": {
     "end_time": "2017-11-24T16:34:50.240218",
     "start_time": "2017-11-24T16:34:50.025515"
    },
    "colab": {
     "base_uri": "https://localhost:8080/",
     "height": 156
    },
    "id": "0Vz_WwiDOl3x",
    "outputId": "89385467-e5b5-44ab-93d9-da70459bee80"
   },
   "outputs": [
    {
     "data": {
      "image/png": "[encoded data removed]",
      "text/plain": [
       "<Figure size 1500x1000 with 1 Axes>"
      ]
     },
     "metadata": {},
     "output_type": "display_data"
    }
   ],
   "source": [
    "# cria um grid com as imagens\n",
    "grid = torchvision.utils.make_grid(weights.view(-1, 1, 28, 28), normalize=True, pad_value=1.0, padding=1, nrow=10)\n",
    "\n",
    "plt.figure(figsize=(15, 10))\n",
    "plt.imshow(grid.numpy().transpose(1, 2, 0))\n",
    "plt.axis('off');"
   ]
  },
  {
   "cell_type": "markdown",
   "metadata": {
    "id": "IAwjpjUzOl3z"
   },
   "source": [
    "### Diagrama da regressão softmax com visualização dos pesos W"
   ]
  },
  {
   "cell_type": "markdown",
   "metadata": {
    "id": "Io0kz0bDOl31"
   },
   "source": [
    "![alt text](https://raw.githubusercontent.com/vcasadei/images/master/RegressaoSoftmaxArgmaxNMIST.png)"
   ]
  },
  {
   "cell_type": "markdown",
   "metadata": {
    "id": "KKKZDmIvOl31"
   },
   "source": [
    "# Atividades"
   ]
  },
  {
   "cell_type": "markdown",
   "metadata": {
    "id": "fMcK8rnnOl31"
   },
   "source": [
    "## Exercícios"
   ]
  },
  {
   "cell_type": "markdown",
   "metadata": {
    "id": "bcYvj-5dOl4I"
   },
   "source": [
    "- 1) Insira código no laço do treinamento para que no final de cada época,\n",
    "     seja impresso: o número da época e a perda e a acurácia"
   ]
  },
  {
   "cell_type": "markdown",
   "metadata": {
    "id": "0xttWrUbOl4J"
   },
   "source": [
    "- 2) Insira código no laço do treinamento para visualização dos valores dos gradientes referentes à classe do dígito 4, no final de cada época."
   ]
  },
  {
   "cell_type": "markdown",
   "metadata": {
    "id": "28SnX4gHjeLj"
   },
   "source": [
    "<details>\n",
    "<summary>Mostrar Resultado</summary>\n",
    "\n",
    "```python\n",
    "losses = []\n",
    "import numpy\n",
    "\n",
    "import numpy\n",
    "zs = []\n",
    "\n",
    "for i in range(epochs):\n",
    "    # Transforma a entrada para uma dimensão\n",
    "    inputs = Variable(x_train.view(-1, 28 * 28))\n",
    "    # Predict da rede\n",
    "    outputs = model(inputs)\n",
    "    \n",
    "    # z0 a z9\n",
    "    zs.append(outputs[1].detach().numpy())\n",
    "\n",
    "    # calcula a perda\n",
    "    loss = criterion(outputs, Variable(y_train))\n",
    "\n",
    "    # zero, backpropagation, ajusta parâmetros pelo gradiente descendente\n",
    "    optimizer.zero_grad()\n",
    "    loss.backward()\n",
    "    optimizer.step()\n",
    "\n",
    "    losses.append(loss.item())\n",
    "    \n",
    "    _, predicts = torch.max(outputs, 1)\n",
    "    \n",
    "    y_pred = predicts.data\n",
    "    accuracy = (y_pred.numpy() == y_train.numpy()).mean()\n",
    "    \n",
    "    print('Epoch[{}/{}], loss: {:.6f}, acc: {:.6f}'\n",
    "              .format(i+1, epochs, loss.data, accuracy))\n",
    "    \n",
    "    weights = model.state_dict()['weight']\n",
    "    print('weights:', weights.shape)\n",
    "\n",
    "    bias = model.state_dict()['bias']\n",
    "    print('bias:   ', bias.shape)\n",
    "\n",
    "    # Visualizando pesos da classe 3\n",
    "    plt.imshow(weights[4, :].numpy().reshape((28,28)),cmap = 'gray')\n",
    "    plt.show()\n",
    "```\n",
    "\n",
    "</details>"
   ]
  },
  {
   "cell_type": "markdown",
   "metadata": {
    "id": "yDhND6p3Ol4J"
   },
   "source": [
    "## Perguntas"
   ]
  },
  {
   "cell_type": "markdown",
   "metadata": {
    "id": "AXg8GBrsOl4L"
   },
   "source": [
    "1. Qual é o shape da matriz de entrada na rede?\n",
    "   - 60k de imagens do MNIST, cada imagem 28x28 pixels -> (60000, 784)\n",
    "3. Qual é o shape da saída da rede?\n",
    "   - São gerados 10 valores para cada imagem -> (60000, 10)\n",
    "5. Qual é o número total de parâmetros da rede, incluindo o bias?\n",
    "   - 784*10(pesos)+10(biases) = 7850"
   ]
  },
  {
   "cell_type": "markdown",
   "metadata": {
    "id": "0aj1pg_ZOl4L"
   },
   "source": [
    "# Aprendizados\n"
   ]
  },
  {
   "cell_type": "markdown",
   "metadata": {},
   "source": [
    "Neste notebook, a rede implementada foi conceitualmente semelhante à da atividade anterior, mas com um foco distinto: a classificação de imagens. O principal aprendizado foi perceber como, ao lidarmos com um problema de classificação multiclasse em um conjunto de dados visual e denso — composto por 60.000 imagens de 28×28 pixels —, a complexidade do processo aumentou consideravelmente. Isso exigiu o uso de novos recursos, como o achatamento das imagens, o uso eficiente de tensores e a adoção de estratégias para monitoramento de desempenho e visualização de pesos, mostrando como o volume e a natureza dos dados influenciam diretamente o projeto e a execução de modelos de redes neurais."
   ]
  },
  {
   "cell_type": "code",
   "execution_count": null,
   "metadata": {},
   "outputs": [],
   "source": []
  }
 ],
 "metadata": {
  "accelerator": "TPU",
  "colab": {
   "name": "3.2-LogisticRegressionMNIST.ipynb",
   "provenance": []
  },
  "kernelspec": {
   "display_name": "Python 3 (ipykernel)",
   "language": "python",
   "name": "python3"
  },
  "language_info": {
   "codemirror_mode": {
    "name": "ipython",
    "version": 3
   },
   "file_extension": ".py",
   "mimetype": "text/x-python",
   "name": "python",
   "nbconvert_exporter": "python",
   "pygments_lexer": "ipython3",
   "version": "3.12.0"
  },
  "vscode": {
   "interpreter": {
    "hash": "5fe3e6f0cdaab8afdc61c52912fda83f7c0a71baaea1897dd7498e2df01e69ec"
   }
  }
 },
 "nbformat": 4,
 "nbformat_minor": 4
}
