{
 "cells": [
  {
   "cell_type": "markdown",
   "metadata": {
    "id": "B3td_pl4mvQD"
   },
   "source": [
    "# Regressão Softmax com dados do MNIST"
   ]
  },
  {
   "cell_type": "markdown",
   "metadata": {
    "id": "DtkJT-FtmvQE"
   },
   "source": [
    "## Objetivo"
   ]
  },
  {
   "cell_type": "markdown",
   "metadata": {
    "id": "hF-ByQKJmvQF"
   },
   "source": [
    "O objetivo deste notebook é ilustrar o uso de praticamente a mesma rede desenvolvida para a classificação das flores Íris, porém agora com o problema de classificação de dígitos manuscritos utilizando o dataset MNIST.\n",
    "As principais diferenças são:\n",
    "- tipo do dado, agora imagem com muito atributos: 28 x 28 pixels\n",
    "- número de amostras, muito maior, 60 mil\n",
    "Neste exercício será possível a interpretação do significado dos parâmetros treinados"
   ]
  },
  {
   "cell_type": "markdown",
   "metadata": {
    "id": "HGsYwaRemvQH"
   },
   "source": [
    "## Importação das bibliotecas"
   ]
  },
  {
   "cell_type": "code",
   "execution_count": 22,
   "metadata": {
    "ExecuteTime": {
     "end_time": "2017-11-24T15:44:50.097111",
     "start_time": "2017-11-24T15:44:48.915046"
    },
    "id": "JeBH-PI4mvQI"
   },
   "outputs": [],
   "source": [
    "%matplotlib inline\n",
    "import numpy as np\n",
    "import matplotlib.pyplot as plt\n",
    "import pandas as pd\n",
    "\n",
    "from torch.autograd import Variable\n",
    "import torch\n",
    "import torchvision"
   ]
  },
  {
   "cell_type": "markdown",
   "metadata": {
    "id": "FLEq8nmUmvQL"
   },
   "source": [
    "## Carregamento dos dados do MNIST"
   ]
  },
  {
   "cell_type": "code",
   "execution_count": 23,
   "metadata": {
    "colab": {
     "base_uri": "https://localhost:8080/"
    },
    "id": "5ueXR4zIo5wQ",
    "outputId": "a5022f4c-82d6-4a30-bec4-05c715a073f7"
   },
   "outputs": [
    {
     "name": "stderr",
     "output_type": "stream",
     "text": [
      "fatal: destination path 'MNIST' already exists and is not an empty directory.\n"
     ]
    }
   ],
   "source": [
    "! git clone https://github.com/vcasadei/MNIST.git"
   ]
  },
  {
   "cell_type": "code",
   "execution_count": 24,
   "metadata": {
    "ExecuteTime": {
     "end_time": "2017-11-24T15:44:50.638218",
     "start_time": "2017-11-24T15:44:50.098808"
    },
    "colab": {
     "base_uri": "https://localhost:8080/"
    },
    "id": "xZWPIWlumvQM",
    "outputId": "42a658a1-9303-40f8-c337-d7751073e207"
   },
   "outputs": [
    {
     "name": "stdout",
     "output_type": "stream",
     "text": [
      "Amostras de treinamento: 60000\n",
      "\n",
      "Dimensões dos dados das imagens:    torch.Size([60000, 28, 28])\n",
      "Valores mínimo e máximo dos pixels: tensor(0, dtype=torch.uint8) tensor(255, dtype=torch.uint8)\n",
      "Tipo dos dados das imagens:         <class 'torch.Tensor'>\n",
      "Tipo das classes das imagens:       <class 'torch.Tensor'>\n"
     ]
    }
   ],
   "source": [
    "dataset_dir = 'MNIST/'\n",
    "\n",
    "x_train, y_train = torch.load(dataset_dir + 'processed/training.pt')\n",
    "\n",
    "print(\"Amostras de treinamento:\", x_train.size(0))\n",
    "\n",
    "print(\"\\nDimensões dos dados das imagens:   \", x_train.size())\n",
    "print(\"Valores mínimo e máximo dos pixels:\", torch.min(x_train), torch.max(x_train))\n",
    "print(\"Tipo dos dados das imagens:        \", type(x_train))\n",
    "print(\"Tipo das classes das imagens:      \", type(y_train))"
   ]
  },
  {
   "cell_type": "markdown",
   "metadata": {
    "id": "uR2L0QQgmvQU"
   },
   "source": [
    "### Carregamento, normalização e seleção dos dados do MNIST\n",
    "\n",
    "Neste exemplo utilizaremos apenas 1000 amostras de treinamento."
   ]
  },
  {
   "cell_type": "code",
   "execution_count": 25,
   "metadata": {
    "ExecuteTime": {
     "end_time": "2017-11-24T15:44:50.895668",
     "start_time": "2017-11-24T15:44:50.640110"
    },
    "colab": {
     "base_uri": "https://localhost:8080/"
    },
    "id": "C9Rh7wRemvQU",
    "outputId": "26460e2c-57e9-437d-eea4-952a48d9d5f2"
   },
   "outputs": [
    {
     "name": "stdout",
     "output_type": "stream",
     "text": [
      "Amostras de treinamento: 1000\n",
      "\n",
      "Dimensões dos dados das imagens:    torch.Size([1000, 28, 28])\n",
      "Valores mínimo e máximo dos pixels: tensor(0.) tensor(1.)\n",
      "Tipo dos dados das imagens:         <class 'torch.Tensor'>\n",
      "Tipo das classes das imagens:       <class 'torch.Tensor'>\n"
     ]
    }
   ],
   "source": [
    "x_train = x_train.float()\n",
    "\n",
    "x_train = x_train / 255.\n",
    "\n",
    "if True:\n",
    "    n_samples_train = 1000\n",
    "\n",
    "    x_train = x_train[:n_samples_train]\n",
    "    y_train = y_train[:n_samples_train]\n",
    "\n",
    "print(\"Amostras de treinamento:\", x_train.size(0))\n",
    "\n",
    "print(\"\\nDimensões dos dados das imagens:   \", x_train.size())\n",
    "print(\"Valores mínimo e máximo dos pixels:\", torch.min(x_train), torch.max(x_train))\n",
    "print(\"Tipo dos dados das imagens:        \", type(x_train))\n",
    "print(\"Tipo das classes das imagens:      \", type(y_train))"
   ]
  },
  {
   "cell_type": "markdown",
   "metadata": {
    "id": "6UtzmsQimvQa"
   },
   "source": [
    "### Visualizando os dados"
   ]
  },
  {
   "cell_type": "code",
   "execution_count": 26,
   "metadata": {
    "ExecuteTime": {
     "end_time": "2017-11-24T16:32:19.474568",
     "start_time": "2017-11-24T16:32:19.207270"
    },
    "colab": {
     "base_uri": "https://localhost:8080/",
     "height": 493
    },
    "id": "gFG0qpODmvQa",
    "outputId": "066ad080-92b4-4170-e5df-5ea022238cf0"
   },
   "outputs": [
    {
     "data": {
      "text/plain": [
       "(-0.5, 232.5, 87.5, -0.5)"
      ]
     },
     "execution_count": 26,
     "metadata": {},
     "output_type": "execute_result"
    },
    {
     "data": {
      "image/png": "[encoded data removed]",
      "text/plain": [
       "<Figure size 1500x1000 with 1 Axes>"
      ]
     },
     "metadata": {},
     "output_type": "display_data"
    }
   ],
   "source": [
    "n_samples = 24\n",
    "\n",
    "# cria um grid com as imagens\n",
    "grid = torchvision.utils.make_grid(x_train[:n_samples].unsqueeze(1), pad_value=1.0, padding=1)\n",
    "\n",
    "plt.figure(figsize=(15, 10))\n",
    "plt.imshow(grid.numpy().transpose(1, 2, 0))\n",
    "plt.axis('off')"
   ]
  },
  {
   "cell_type": "markdown",
   "metadata": {
    "id": "075sVFBZmvQe"
   },
   "source": [
    "### Visualizando uma imagem com o matplotlib"
   ]
  },
  {
   "cell_type": "code",
   "execution_count": 27,
   "metadata": {
    "ExecuteTime": {
     "end_time": "2017-11-24T15:44:51.413232",
     "start_time": "2017-11-24T15:44:51.251376"
    },
    "colab": {
     "base_uri": "https://localhost:8080/",
     "height": 447
    },
    "id": "3W2NpeW0mvQg",
    "outputId": "982d9328-5731-430f-ec21-03bd3b65cd1c"
   },
   "outputs": [
    {
     "name": "stdout",
     "output_type": "stream",
     "text": [
      "class: tensor(5)\n"
     ]
    },
    {
     "data": {
      "image/png": "[encoded data removed]",
      "text/plain": [
       "<Figure size 640x480 with 1 Axes>"
      ]
     },
     "metadata": {},
     "output_type": "display_data"
    }
   ],
   "source": [
    "image  = x_train[0]\n",
    "target = y_train[0]\n",
    "\n",
    "plt.imshow(image.numpy().reshape(28,28), cmap='gray')\n",
    "print('class:', target)"
   ]
  },
  {
   "cell_type": "markdown",
   "metadata": {
    "id": "SU-PzteEmvQj"
   },
   "source": [
    "## Modelo"
   ]
  },
  {
   "cell_type": "code",
   "execution_count": 28,
   "metadata": {
    "ExecuteTime": {
     "end_time": "2017-11-24T15:44:51.419287",
     "start_time": "2017-11-24T15:44:51.415065"
    },
    "id": "VKMngBWzmvQk"
   },
   "outputs": [],
   "source": [
    "model = torch.nn.Linear(28*28, 10) # 28*28 atributos de entrada e 10 neurônios na sáida"
   ]
  },
  {
   "cell_type": "markdown",
   "metadata": {
    "id": "uzvpr1u6mvQo"
   },
   "source": [
    "### Testando um predict com poucas amostras"
   ]
  },
  {
   "cell_type": "code",
   "execution_count": 29,
   "metadata": {
    "id": "KiiO8WDAmvQq"
   },
   "outputs": [
    {
     "name": "stdout",
     "output_type": "stream",
     "text": [
      "tensor([[ 9.1889, 14.0286, 10.0441,  6.7780, 10.1733,  8.8517,  7.1105,  9.5692,\n",
      "         12.9344, 11.3213],\n",
      "        [ 7.1464, 11.7778, 11.2013,  7.2398, 12.4181,  8.4774,  6.8154, 11.3447,\n",
      "         12.6160, 10.9630],\n",
      "        [11.2834, 12.9129, 10.4021,  8.5521,  9.0196,  7.2603, 10.6804,  9.1254,\n",
      "         10.8089,  9.9548],\n",
      "        [ 7.6004, 10.0979, 11.6091,  7.7094, 13.7176, 11.5389,  8.5222,  9.2350,\n",
      "         10.8332,  9.1363]], grad_fn=<MulBackward0>)\n"
     ]
    }
   ],
   "source": [
    "## TODO\n",
    "import torch.nn.functional as F\n",
    "x_pred = x_train[0:4].view(-1, 28*28)\n",
    "x_pred.size()\n",
    "\n",
    "y_pred = model(x_pred)\n",
    "#softmax\n",
    "y_prob = F.softmax(y_pred, dim=1)*100\n",
    "print(y_prob)"
   ]
  },
  {
   "cell_type": "markdown",
   "metadata": {
    "id": "tIIeicyGmvQs"
   },
   "source": [
    "## Treinamento"
   ]
  },
  {
   "cell_type": "markdown",
   "metadata": {
    "id": "tSfqKNW2mvQt"
   },
   "source": [
    "### Inicialização dos parâmetros"
   ]
  },
  {
   "cell_type": "code",
   "execution_count": 30,
   "metadata": {
    "ExecuteTime": {
     "end_time": "2017-11-24T15:44:51.425768",
     "start_time": "2017-11-24T15:44:51.420825"
    },
    "id": "I9W3OFvomvQu"
   },
   "outputs": [],
   "source": [
    "epochs = 5\n",
    "learningRate = 0.5\n",
    "\n",
    "# Utilizaremos CrossEntropyLoss como função de perda\n",
    "criterion = torch.nn.CrossEntropyLoss()\n",
    "\n",
    "# Gradiente descendente\n",
    "optimizer = torch.optim.SGD(model.parameters(), lr=learningRate)"
   ]
  },
  {
   "cell_type": "markdown",
   "metadata": {
    "id": "hlNgV_pgmvQx"
   },
   "source": [
    "### Visualização do grafo computacional da perda (loss)"
   ]
  },
  {
   "cell_type": "code",
   "execution_count": 31,
   "metadata": {
    "colab": {
     "base_uri": "https://localhost:8080/"
    },
    "id": "5ycGDyoWjMoR",
    "outputId": "61a0d6c9-8924-4af3-fff5-c9f5e4f97376"
   },
   "outputs": [
    {
     "name": "stdout",
     "output_type": "stream",
     "text": [
      "Requirement already satisfied: graphviz in c:\\users\\mathe\\appdata\\local\\programs\\python\\python312\\lib\\site-packages (0.20.3)\n",
      "Collecting git+https://github.com/szagoruyko/pytorchviz\n",
      "  Cloning https://github.com/szagoruyko/pytorchviz to c:\\users\\mathe\\appdata\\local\\temp\\pip-req-build-e9b7gmpd\n",
      "  Resolved https://github.com/szagoruyko/pytorchviz to commit 5cf04c13e601366f6b9cf5939b5af5144d55b887\n",
      "  Installing build dependencies: started\n",
      "  Installing build dependencies: finished with status 'done'\n",
      "  Getting requirements to build wheel: started\n",
      "  Getting requirements to build wheel: finished with status 'done'\n",
      "  Preparing metadata (pyproject.toml): started\n",
      "  Preparing metadata (pyproject.toml): finished with status 'done'\n",
      "Requirement already satisfied: torch in c:\\users\\mathe\\appdata\\local\\programs\\python\\python312\\lib\\site-packages (from torchviz==0.0.2) (2.7.0)\n",
      "Requirement already satisfied: graphviz in c:\\users\\mathe\\appdata\\local\\programs\\python\\python312\\lib\\site-packages (from torchviz==0.0.2) (0.20.3)\n",
      "Requirement already satisfied: filelock in c:\\users\\mathe\\appdata\\local\\programs\\python\\python312\\lib\\site-packages (from torch->torchviz==0.0.2) (3.18.0)\n",
      "Requirement already satisfied: typing-extensions>=4.10.0 in c:\\users\\mathe\\appdata\\local\\programs\\python\\python312\\lib\\site-packages (from torch->torchviz==0.0.2) (4.12.2)\n",
      "Requirement already satisfied: sympy>=1.13.3 in c:\\users\\mathe\\appdata\\local\\programs\\python\\python312\\lib\\site-packages (from torch->torchviz==0.0.2) (1.14.0)\n",
      "Requirement already satisfied: networkx in c:\\users\\mathe\\appdata\\local\\programs\\python\\python312\\lib\\site-packages (from torch->torchviz==0.0.2) (3.4.2)\n",
      "Requirement already satisfied: jinja2 in c:\\users\\mathe\\appdata\\local\\programs\\python\\python312\\lib\\site-packages (from torch->torchviz==0.0.2) (3.1.2)\n",
      "Requirement already satisfied: fsspec in c:\\users\\mathe\\appdata\\local\\programs\\python\\python312\\lib\\site-packages (from torch->torchviz==0.0.2) (2025.3.2)\n",
      "Requirement already satisfied: setuptools in c:\\users\\mathe\\appdata\\local\\programs\\python\\python312\\lib\\site-packages (from torch->torchviz==0.0.2) (72.2.0)\n",
      "Requirement already satisfied: mpmath<1.4,>=1.1.0 in c:\\users\\mathe\\appdata\\local\\programs\\python\\python312\\lib\\site-packages (from sympy>=1.13.3->torch->torchviz==0.0.2) (1.3.0)\n",
      "Requirement already satisfied: MarkupSafe>=2.0 in c:\\users\\mathe\\appdata\\local\\programs\\python\\python312\\lib\\site-packages (from jinja2->torch->torchviz==0.0.2) (2.1.3)\n"
     ]
    },
    {
     "name": "stderr",
     "output_type": "stream",
     "text": [
      "  Running command git clone --filter=blob:none --quiet https://github.com/szagoruyko/pytorchviz 'C:\\Users\\mathe\\AppData\\Local\\Temp\\pip-req-build-e9b7gmpd'\n"
     ]
    }
   ],
   "source": [
    "!pip install graphviz\n",
    "!pip install git+https://github.com/szagoruyko/pytorchviz"
   ]
  },
  {
   "cell_type": "code",
   "execution_count": 32,
   "metadata": {
    "ExecuteTime": {
     "end_time": "2017-11-24T16:28:18.101867",
     "start_time": "2017-11-24T16:28:18.062312"
    },
    "colab": {
     "base_uri": "https://localhost:8080/",
     "height": 543
    },
    "id": "oYPRIePImvQz",
    "outputId": "3087e0ce-5876-4b15-9909-619428e6b889"
   },
   "outputs": [
    {
     "data": {
      "image/svg+xml": [
       "<?xml version=\"1.0\" encoding=\"UTF-8\" standalone=\"no\"?>\n",
       "<!DOCTYPE svg PUBLIC \"-//W3C//DTD SVG 1.1//EN\"\n",
       " \"http://www.w3.org/Graphics/SVG/1.1/DTD/svg11.dtd\">\n",
       "<!-- Generated by graphviz version 12.2.1 (20241206.2353)\n",
       " -->\n",
       "<!-- Pages: 1 -->\n",
       "<svg width=\"214pt\" height=\"407pt\"\n",
       " viewBox=\"0.00 0.00 214.00 406.75\" xmlns=\"http://www.w3.org/2000/svg\" xmlns:xlink=\"http://www.w3.org/1999/xlink\">\n",
       "<g id=\"graph0\" class=\"graph\" transform=\"scale(1 1) rotate(0) translate(4 402.75)\">\n",
       "<polygon fill=\"white\" stroke=\"none\" points=\"-4,4 -4,-402.75 210,-402.75 210,4 -4,4\"/>\n",
       "<!-- 1957345923376 -->\n",
       "<g id=\"node1\" class=\"node\">\n",
       "<title>1957345923376</title>\n",
       "<polygon fill=\"#caff70\" stroke=\"black\" points=\"130,-32.75 76,-32.75 76,0 130,0 130,-32.75\"/>\n",
       "<text text-anchor=\"middle\" x=\"103\" y=\"-7.25\" font-family=\"monospace\" font-size=\"10.00\"> ()</text>\n",
       "</g>\n",
       "<!-- 1957300229968 -->\n",
       "<g id=\"node2\" class=\"node\">\n",
       "<title>1957300229968</title>\n",
       "<polygon fill=\"lightgrey\" stroke=\"black\" points=\"159,-89.5 47,-89.5 47,-68.75 159,-68.75 159,-89.5\"/>\n",
       "<text text-anchor=\"middle\" x=\"103\" y=\"-76\" font-family=\"monospace\" font-size=\"10.00\">NllLossBackward0</text>\n",
       "</g>\n",
       "<!-- 1957300229968&#45;&gt;1957345923376 -->\n",
       "<g id=\"edge8\" class=\"edge\">\n",
       "<title>1957300229968&#45;&gt;1957345923376</title>\n",
       "<path fill=\"none\" stroke=\"black\" d=\"M103,-68.36C103,-61.89 103,-53.05 103,-44.55\"/>\n",
       "<polygon fill=\"black\" stroke=\"black\" points=\"106.5,-44.55 103,-34.55 99.5,-44.55 106.5,-44.55\"/>\n",
       "</g>\n",
       "<!-- 1957346550368 -->\n",
       "<g id=\"node3\" class=\"node\">\n",
       "<title>1957346550368</title>\n",
       "<polygon fill=\"lightgrey\" stroke=\"black\" points=\"168,-146.25 38,-146.25 38,-125.5 168,-125.5 168,-146.25\"/>\n",
       "<text text-anchor=\"middle\" x=\"103\" y=\"-132.75\" font-family=\"monospace\" font-size=\"10.00\">LogSoftmaxBackward0</text>\n",
       "</g>\n",
       "<!-- 1957346550368&#45;&gt;1957300229968 -->\n",
       "<g id=\"edge1\" class=\"edge\">\n",
       "<title>1957346550368&#45;&gt;1957300229968</title>\n",
       "<path fill=\"none\" stroke=\"black\" d=\"M103,-125.09C103,-118.47 103,-109.47 103,-101.27\"/>\n",
       "<polygon fill=\"black\" stroke=\"black\" points=\"106.5,-101.34 103,-91.34 99.5,-101.34 106.5,-101.34\"/>\n",
       "</g>\n",
       "<!-- 1957346168112 -->\n",
       "<g id=\"node4\" class=\"node\">\n",
       "<title>1957346168112</title>\n",
       "<polygon fill=\"lightgrey\" stroke=\"black\" points=\"153,-203 53,-203 53,-182.25 153,-182.25 153,-203\"/>\n",
       "<text text-anchor=\"middle\" x=\"103\" y=\"-189.5\" font-family=\"monospace\" font-size=\"10.00\">AddmmBackward0</text>\n",
       "</g>\n",
       "<!-- 1957346168112&#45;&gt;1957346550368 -->\n",
       "<g id=\"edge2\" class=\"edge\">\n",
       "<title>1957346168112&#45;&gt;1957346550368</title>\n",
       "<path fill=\"none\" stroke=\"black\" d=\"M103,-181.84C103,-175.22 103,-166.22 103,-158.02\"/>\n",
       "<polygon fill=\"black\" stroke=\"black\" points=\"106.5,-158.09 103,-148.09 99.5,-158.09 106.5,-158.09\"/>\n",
       "</g>\n",
       "<!-- 1957345818656 -->\n",
       "<g id=\"node5\" class=\"node\">\n",
       "<title>1957345818656</title>\n",
       "<polygon fill=\"lightgrey\" stroke=\"black\" points=\"100,-259.75 0,-259.75 0,-239 100,-239 100,-259.75\"/>\n",
       "<text text-anchor=\"middle\" x=\"50\" y=\"-246.25\" font-family=\"monospace\" font-size=\"10.00\">AccumulateGrad</text>\n",
       "</g>\n",
       "<!-- 1957345818656&#45;&gt;1957346168112 -->\n",
       "<g id=\"edge3\" class=\"edge\">\n",
       "<title>1957345818656&#45;&gt;1957346168112</title>\n",
       "<path fill=\"none\" stroke=\"black\" d=\"M59.48,-238.59C66.79,-231.03 77.09,-220.39 85.84,-211.35\"/>\n",
       "<polygon fill=\"black\" stroke=\"black\" points=\"88.11,-214.04 92.55,-204.42 83.08,-209.17 88.11,-214.04\"/>\n",
       "</g>\n",
       "<!-- 1957346247536 -->\n",
       "<g id=\"node6\" class=\"node\">\n",
       "<title>1957346247536</title>\n",
       "<polygon fill=\"lightblue\" stroke=\"black\" points=\"77,-329.25 23,-329.25 23,-295.75 77,-295.75 77,-329.25\"/>\n",
       "<text text-anchor=\"middle\" x=\"50\" y=\"-315.75\" font-family=\"monospace\" font-size=\"10.00\">bias</text>\n",
       "<text text-anchor=\"middle\" x=\"50\" y=\"-303\" font-family=\"monospace\" font-size=\"10.00\"> (10)</text>\n",
       "</g>\n",
       "<!-- 1957346247536&#45;&gt;1957345818656 -->\n",
       "<g id=\"edge4\" class=\"edge\">\n",
       "<title>1957346247536&#45;&gt;1957345818656</title>\n",
       "<path fill=\"none\" stroke=\"black\" d=\"M50,-295.44C50,-288.1 50,-279.32 50,-271.46\"/>\n",
       "<polygon fill=\"black\" stroke=\"black\" points=\"53.5,-271.73 50,-261.73 46.5,-271.73 53.5,-271.73\"/>\n",
       "</g>\n",
       "<!-- 1957345817024 -->\n",
       "<g id=\"node7\" class=\"node\">\n",
       "<title>1957345817024</title>\n",
       "<polygon fill=\"lightgrey\" stroke=\"black\" points=\"194,-259.75 118,-259.75 118,-239 194,-239 194,-259.75\"/>\n",
       "<text text-anchor=\"middle\" x=\"156\" y=\"-246.25\" font-family=\"monospace\" font-size=\"10.00\">TBackward0</text>\n",
       "</g>\n",
       "<!-- 1957345817024&#45;&gt;1957346168112 -->\n",
       "<g id=\"edge5\" class=\"edge\">\n",
       "<title>1957345817024&#45;&gt;1957346168112</title>\n",
       "<path fill=\"none\" stroke=\"black\" d=\"M146.52,-238.59C139.21,-231.03 128.91,-220.39 120.16,-211.35\"/>\n",
       "<polygon fill=\"black\" stroke=\"black\" points=\"122.92,-209.17 113.45,-204.42 117.89,-214.04 122.92,-209.17\"/>\n",
       "</g>\n",
       "<!-- 1957300469568 -->\n",
       "<g id=\"node8\" class=\"node\">\n",
       "<title>1957300469568</title>\n",
       "<polygon fill=\"lightgrey\" stroke=\"black\" points=\"206,-322.88 106,-322.88 106,-302.12 206,-302.12 206,-322.88\"/>\n",
       "<text text-anchor=\"middle\" x=\"156\" y=\"-309.38\" font-family=\"monospace\" font-size=\"10.00\">AccumulateGrad</text>\n",
       "</g>\n",
       "<!-- 1957300469568&#45;&gt;1957345817024 -->\n",
       "<g id=\"edge6\" class=\"edge\">\n",
       "<title>1957300469568&#45;&gt;1957345817024</title>\n",
       "<path fill=\"none\" stroke=\"black\" d=\"M156,-301.68C156,-293.52 156,-281.63 156,-271.35\"/>\n",
       "<polygon fill=\"black\" stroke=\"black\" points=\"159.5,-271.48 156,-261.48 152.5,-271.48 159.5,-271.48\"/>\n",
       "</g>\n",
       "<!-- 1957346247776 -->\n",
       "<g id=\"node9\" class=\"node\">\n",
       "<title>1957346247776</title>\n",
       "<polygon fill=\"lightblue\" stroke=\"black\" points=\"194,-398.75 118,-398.75 118,-365.25 194,-365.25 194,-398.75\"/>\n",
       "<text text-anchor=\"middle\" x=\"156\" y=\"-385.25\" font-family=\"monospace\" font-size=\"10.00\">weight</text>\n",
       "<text text-anchor=\"middle\" x=\"156\" y=\"-372.5\" font-family=\"monospace\" font-size=\"10.00\"> (10, 784)</text>\n",
       "</g>\n",
       "<!-- 1957346247776&#45;&gt;1957300469568 -->\n",
       "<g id=\"edge7\" class=\"edge\">\n",
       "<title>1957346247776&#45;&gt;1957300469568</title>\n",
       "<path fill=\"none\" stroke=\"black\" d=\"M156,-365C156,-355.9 156,-344.39 156,-334.57\"/>\n",
       "<polygon fill=\"black\" stroke=\"black\" points=\"159.5,-334.84 156,-324.84 152.5,-334.84 159.5,-334.84\"/>\n",
       "</g>\n",
       "</g>\n",
       "</svg>\n"
      ],
      "text/plain": [
       "<graphviz.graphs.Digraph at 0x1c7baefaa20>"
      ]
     },
     "execution_count": 32,
     "metadata": {},
     "output_type": "execute_result"
    }
   ],
   "source": [
    "y_pred = model(Variable(x_train.view(-1,28*28)))\n",
    "loss = criterion(y_pred, Variable(y_train))\n",
    "from torchviz import make_dot, make_dot_from_trace\n",
    "p = make_dot(loss, dict(model.named_parameters()))\n",
    "p"
   ]
  },
  {
   "cell_type": "markdown",
   "metadata": {
    "id": "Pq2yq8qAmvQ2"
   },
   "source": [
    "### Laço de treinamento dos pesos"
   ]
  },
  {
   "cell_type": "code",
   "execution_count": 33,
   "metadata": {
    "ExecuteTime": {
     "end_time": "2017-11-24T15:44:51.678678",
     "start_time": "2017-11-24T15:44:51.427695"
    },
    "colab": {
     "base_uri": "https://localhost:8080/",
     "height": 34
    },
    "id": "HPUUNKXxmvQ3",
    "outputId": "36b6aef3-0ece-4220-a654-c35b6e521002"
   },
   "outputs": [
    {
     "name": "stdout",
     "output_type": "stream",
     "text": [
      "Época 1/5 | Perda: 2.3579 | Acurácia: 0.0750\n",
      "Gradiente da classe 4 (primeiros 5 valores): [0. 0. 0. 0. 0.]\n",
      "Época 2/5 | Perda: 1.8394 | Acurácia: 0.5710\n",
      "Gradiente da classe 4 (primeiros 5 valores): [0. 0. 0. 0. 0.]\n",
      "Época 3/5 | Perda: 1.4927 | Acurácia: 0.7670\n",
      "Gradiente da classe 4 (primeiros 5 valores): [0. 0. 0. 0. 0.]\n",
      "Época 4/5 | Perda: 1.2635 | Acurácia: 0.7580\n",
      "Gradiente da classe 4 (primeiros 5 valores): [0. 0. 0. 0. 0.]\n",
      "Época 5/5 | Perda: 1.1086 | Acurácia: 0.8130\n",
      "Gradiente da classe 4 (primeiros 5 valores): [0. 0. 0. 0. 0.]\n"
     ]
    },
    {
     "data": {
      "text/plain": [
       "<Figure size 1800x600 with 0 Axes>"
      ]
     },
     "metadata": {},
     "output_type": "display_data"
    }
   ],
   "source": [
    "from IPython import display\n",
    "import numpy\n",
    "a = 5\n",
    "losses = []\n",
    "zs = []\n",
    "fig = plt.figure(figsize=(18, 6))\n",
    "\n",
    "try:\n",
    "    for i in range(epochs):\n",
    "        # Transforma a entrada para uma dimensão\n",
    "        inputs = Variable(x_train.view(-1, 28 * 28))\n",
    "        # Predict da rede\n",
    "        outputs = model(inputs)\n",
    "        zs.append(outputs[1].detach().numpy())\n",
    "\n",
    "        # calcula a perda\n",
    "        loss = criterion(outputs, Variable(y_train))\n",
    "\n",
    "        # zero, backpropagation, ajusta parâmetros pelo gradiente descendente\n",
    "        optimizer.zero_grad()\n",
    "        loss.backward()\n",
    "        optimizer.step()\n",
    "\n",
    "        losses.append(loss.data)\n",
    "        _, predicts = torch.max(outputs, 1)\n",
    "\n",
    "        y_pred = predicts.data\n",
    "        accuracy = (y_pred.numpy() == y_train.numpy()).mean()\n",
    "        # Exercício 1\n",
    "        print(f\"Época {i+1}/{epochs} | Perda: {loss.item():.4f} | Acurácia: {accuracy:.4f}\")\n",
    "\n",
    "        # Exercício 2\n",
    "        grad_classe_4 = model.weight.grad[4]  # Gradientes da linha 4 (classe 4)\n",
    "        print(f\"Gradiente da classe 4 (primeiros 5 valores): {grad_classe_4[:5].detach().numpy()}\")\n",
    "except KeyboardInterrupt:\n",
    "    pass"
   ]
  },
  {
   "cell_type": "code",
   "execution_count": 34,
   "metadata": {
    "colab": {
     "base_uri": "https://localhost:8080/"
    },
    "id": "8wbN-_fnmvQ7",
    "outputId": "c5846267-b88e-4cdc-8303-f10e48176e8a"
   },
   "outputs": [
    {
     "data": {
      "text/plain": [
       "tensor([[0., 0., 0.,  ..., 0., 0., 0.],\n",
       "        [0., 0., 0.,  ..., 0., 0., 0.],\n",
       "        [0., 0., 0.,  ..., 0., 0., 0.],\n",
       "        ...,\n",
       "        [0., 0., 0.,  ..., 0., 0., 0.],\n",
       "        [0., 0., 0.,  ..., 0., 0., 0.],\n",
       "        [0., 0., 0.,  ..., 0., 0., 0.]])"
      ]
     },
     "execution_count": 34,
     "metadata": {},
     "output_type": "execute_result"
    }
   ],
   "source": [
    "model.weight.grad"
   ]
  },
  {
   "cell_type": "code",
   "execution_count": 35,
   "metadata": {
    "ExecuteTime": {
     "end_time": "2017-11-24T15:44:51.685301",
     "start_time": "2017-11-24T15:44:51.680419"
    },
    "colab": {
     "base_uri": "https://localhost:8080/"
    },
    "id": "mPWKRc_gmvRH",
    "outputId": "7bb7038b-8222-45a0-a45b-748d2fd77e85"
   },
   "outputs": [
    {
     "name": "stdout",
     "output_type": "stream",
     "text": [
      "Final loss: tensor(1.1086)\n"
     ]
    }
   ],
   "source": [
    "print('Final loss:', loss.data)"
   ]
  },
  {
   "cell_type": "markdown",
   "metadata": {
    "id": "PWIjRdCJmvRQ"
   },
   "source": [
    "### Visualizando gráfico de perda durante o treinamento"
   ]
  },
  {
   "cell_type": "code",
   "execution_count": 36,
   "metadata": {
    "ExecuteTime": {
     "end_time": "2017-11-24T15:44:56.787741",
     "start_time": "2017-11-24T15:44:56.627754"
    },
    "colab": {
     "base_uri": "https://localhost:8080/",
     "height": 447
    },
    "id": "gwV8aFcbmvRR",
    "outputId": "4758427a-9027-4ad3-a398-21f3699ee59b"
   },
   "outputs": [
    {
     "data": {
      "text/plain": [
       "[<matplotlib.lines.Line2D at 0x1c7b8650380>]"
      ]
     },
     "execution_count": 36,
     "metadata": {},
     "output_type": "execute_result"
    },
    {
     "data": {
      "image/png": "[encoded data removed]",
      "text/plain": [
       "<Figure size 640x480 with 1 Axes>"
      ]
     },
     "metadata": {},
     "output_type": "display_data"
    }
   ],
   "source": [
    "plt.plot(losses)"
   ]
  },
  {
   "cell_type": "markdown",
   "metadata": {
    "id": "H8og76PRmvRW"
   },
   "source": [
    "## Avaliação"
   ]
  },
  {
   "cell_type": "markdown",
   "metadata": {
    "id": "tIe0ngxWmvRY"
   },
   "source": [
    "### Acurácia tanto no conjunto de treinamento como no conjunto de testes"
   ]
  },
  {
   "cell_type": "code",
   "execution_count": 37,
   "metadata": {
    "ExecuteTime": {
     "end_time": "2017-11-24T15:50:29.922115",
     "start_time": "2017-11-24T15:50:29.914004"
    },
    "colab": {
     "base_uri": "https://localhost:8080/"
    },
    "id": "tlL-lfF5mvRZ",
    "outputId": "2a504475-a9a4-4611-dbed-6be9bc00cdc1"
   },
   "outputs": [
    {
     "name": "stdout",
     "output_type": "stream",
     "text": [
      "Accuracy: 0.808\n"
     ]
    }
   ],
   "source": [
    "def predict(model, input_data):\n",
    "    outputs = model(Variable(input_data))\n",
    "    _, predicts = torch.max(outputs, 1)\n",
    "\n",
    "    return predicts.data\n",
    "\n",
    "y_pred = predict(model, x_train.view(-1, 28*28))\n",
    "accuracy = (y_pred.numpy() == y_train.numpy()).mean()\n",
    "print('Accuracy:', accuracy)"
   ]
  },
  {
   "cell_type": "markdown",
   "metadata": {
    "id": "CvWz9qeDmvRc"
   },
   "source": [
    "### Matriz de confusão com dados de treinamento e teste"
   ]
  },
  {
   "cell_type": "code",
   "execution_count": 38,
   "metadata": {
    "ExecuteTime": {
     "end_time": "2017-11-24T15:51:40.706177",
     "start_time": "2017-11-24T15:51:40.679474"
    },
    "colab": {
     "base_uri": "https://localhost:8080/",
     "height": 411
    },
    "id": "CqNe40IqmvRd",
    "outputId": "93d3a1a5-cdb7-4d60-8438-ed2d0c54e7f3"
   },
   "outputs": [
    {
     "name": "stdout",
     "output_type": "stream",
     "text": [
      "Matriz de confusão:\n"
     ]
    },
    {
     "data": {
      "text/html": [
       "<div>\n",
       "<style scoped>\n",
       "    .dataframe tbody tr th:only-of-type {\n",
       "        vertical-align: middle;\n",
       "    }\n",
       "\n",
       "    .dataframe tbody tr th {\n",
       "        vertical-align: top;\n",
       "    }\n",
       "\n",
       "    .dataframe thead th {\n",
       "        text-align: right;\n",
       "    }\n",
       "</style>\n",
       "<table border=\"1\" class=\"dataframe\">\n",
       "  <thead>\n",
       "    <tr style=\"text-align: right;\">\n",
       "      <th>col_0</th>\n",
       "      <th>0</th>\n",
       "      <th>1</th>\n",
       "      <th>2</th>\n",
       "      <th>3</th>\n",
       "      <th>4</th>\n",
       "      <th>5</th>\n",
       "      <th>6</th>\n",
       "      <th>7</th>\n",
       "      <th>8</th>\n",
       "      <th>9</th>\n",
       "    </tr>\n",
       "    <tr>\n",
       "      <th>row_0</th>\n",
       "      <th></th>\n",
       "      <th></th>\n",
       "      <th></th>\n",
       "      <th></th>\n",
       "      <th></th>\n",
       "      <th></th>\n",
       "      <th></th>\n",
       "      <th></th>\n",
       "      <th></th>\n",
       "      <th></th>\n",
       "    </tr>\n",
       "  </thead>\n",
       "  <tbody>\n",
       "    <tr>\n",
       "      <th>0</th>\n",
       "      <td>94</td>\n",
       "      <td>0</td>\n",
       "      <td>3</td>\n",
       "      <td>1</td>\n",
       "      <td>1</td>\n",
       "      <td>8</td>\n",
       "      <td>3</td>\n",
       "      <td>2</td>\n",
       "      <td>0</td>\n",
       "      <td>2</td>\n",
       "    </tr>\n",
       "    <tr>\n",
       "      <th>1</th>\n",
       "      <td>0</td>\n",
       "      <td>110</td>\n",
       "      <td>13</td>\n",
       "      <td>1</td>\n",
       "      <td>1</td>\n",
       "      <td>2</td>\n",
       "      <td>3</td>\n",
       "      <td>9</td>\n",
       "      <td>8</td>\n",
       "      <td>3</td>\n",
       "    </tr>\n",
       "    <tr>\n",
       "      <th>2</th>\n",
       "      <td>1</td>\n",
       "      <td>0</td>\n",
       "      <td>70</td>\n",
       "      <td>1</td>\n",
       "      <td>0</td>\n",
       "      <td>4</td>\n",
       "      <td>0</td>\n",
       "      <td>0</td>\n",
       "      <td>4</td>\n",
       "      <td>0</td>\n",
       "    </tr>\n",
       "    <tr>\n",
       "      <th>3</th>\n",
       "      <td>0</td>\n",
       "      <td>2</td>\n",
       "      <td>2</td>\n",
       "      <td>80</td>\n",
       "      <td>0</td>\n",
       "      <td>17</td>\n",
       "      <td>1</td>\n",
       "      <td>0</td>\n",
       "      <td>8</td>\n",
       "      <td>4</td>\n",
       "    </tr>\n",
       "    <tr>\n",
       "      <th>4</th>\n",
       "      <td>0</td>\n",
       "      <td>0</td>\n",
       "      <td>1</td>\n",
       "      <td>0</td>\n",
       "      <td>90</td>\n",
       "      <td>5</td>\n",
       "      <td>1</td>\n",
       "      <td>3</td>\n",
       "      <td>0</td>\n",
       "      <td>10</td>\n",
       "    </tr>\n",
       "    <tr>\n",
       "      <th>5</th>\n",
       "      <td>0</td>\n",
       "      <td>0</td>\n",
       "      <td>0</td>\n",
       "      <td>1</td>\n",
       "      <td>0</td>\n",
       "      <td>46</td>\n",
       "      <td>0</td>\n",
       "      <td>0</td>\n",
       "      <td>0</td>\n",
       "      <td>0</td>\n",
       "    </tr>\n",
       "    <tr>\n",
       "      <th>6</th>\n",
       "      <td>2</td>\n",
       "      <td>1</td>\n",
       "      <td>3</td>\n",
       "      <td>1</td>\n",
       "      <td>3</td>\n",
       "      <td>4</td>\n",
       "      <td>86</td>\n",
       "      <td>0</td>\n",
       "      <td>2</td>\n",
       "      <td>1</td>\n",
       "    </tr>\n",
       "    <tr>\n",
       "      <th>7</th>\n",
       "      <td>0</td>\n",
       "      <td>0</td>\n",
       "      <td>5</td>\n",
       "      <td>4</td>\n",
       "      <td>0</td>\n",
       "      <td>1</td>\n",
       "      <td>0</td>\n",
       "      <td>99</td>\n",
       "      <td>0</td>\n",
       "      <td>10</td>\n",
       "    </tr>\n",
       "    <tr>\n",
       "      <th>8</th>\n",
       "      <td>0</td>\n",
       "      <td>2</td>\n",
       "      <td>2</td>\n",
       "      <td>2</td>\n",
       "      <td>0</td>\n",
       "      <td>2</td>\n",
       "      <td>0</td>\n",
       "      <td>0</td>\n",
       "      <td>64</td>\n",
       "      <td>1</td>\n",
       "    </tr>\n",
       "    <tr>\n",
       "      <th>9</th>\n",
       "      <td>0</td>\n",
       "      <td>1</td>\n",
       "      <td>0</td>\n",
       "      <td>2</td>\n",
       "      <td>10</td>\n",
       "      <td>3</td>\n",
       "      <td>0</td>\n",
       "      <td>4</td>\n",
       "      <td>1</td>\n",
       "      <td>69</td>\n",
       "    </tr>\n",
       "  </tbody>\n",
       "</table>\n",
       "</div>"
      ],
      "text/plain": [
       "col_0   0    1   2   3   4   5   6   7   8   9\n",
       "row_0                                         \n",
       "0      94    0   3   1   1   8   3   2   0   2\n",
       "1       0  110  13   1   1   2   3   9   8   3\n",
       "2       1    0  70   1   0   4   0   0   4   0\n",
       "3       0    2   2  80   0  17   1   0   8   4\n",
       "4       0    0   1   0  90   5   1   3   0  10\n",
       "5       0    0   0   1   0  46   0   0   0   0\n",
       "6       2    1   3   1   3   4  86   0   2   1\n",
       "7       0    0   5   4   0   1   0  99   0  10\n",
       "8       0    2   2   2   0   2   0   0  64   1\n",
       "9       0    1   0   2  10   3   0   4   1  69"
      ]
     },
     "execution_count": 38,
     "metadata": {},
     "output_type": "execute_result"
    }
   ],
   "source": [
    "print('Matriz de confusão:')\n",
    "pd.crosstab(y_pred.numpy(), y_train.numpy())"
   ]
  },
  {
   "cell_type": "markdown",
   "metadata": {
    "id": "RLjDGqb7mvRi"
   },
   "source": [
    "## Visualizando a matriz de pesos treinados"
   ]
  },
  {
   "cell_type": "markdown",
   "metadata": {
    "id": "AYuIu31KmvRj"
   },
   "source": [
    "Observe que a matriz de peso treinado para cada classe mostra a importância dos pesos associados aos caracteres de cada classe."
   ]
  },
  {
   "cell_type": "code",
   "execution_count": 39,
   "metadata": {
    "ExecuteTime": {
     "end_time": "2017-11-24T16:34:49.367135",
     "start_time": "2017-11-24T16:34:49.204452"
    },
    "colab": {
     "base_uri": "https://localhost:8080/",
     "height": 465
    },
    "id": "_QESuAB8mvRk",
    "outputId": "33f22ec5-adeb-473e-da12-9519a18c884a"
   },
   "outputs": [
    {
     "name": "stdout",
     "output_type": "stream",
     "text": [
      "weights: torch.Size([10, 784])\n",
      "bias:    torch.Size([10])\n"
     ]
    },
    {
     "data": {
      "image/png": "[encoded data removed]",
      "text/plain": [
       "<Figure size 640x480 with 1 Axes>"
      ]
     },
     "metadata": {},
     "output_type": "display_data"
    }
   ],
   "source": [
    "weights = model.state_dict()['weight']\n",
    "print('weights:', weights.shape)\n",
    "\n",
    "bias = model.state_dict()['bias']\n",
    "print('bias:   ', bias.shape)\n",
    "\n",
    "# Visualizando pesos da classe 3\n",
    "plt.imshow(weights[3, :].numpy().reshape((28,28)),cmap = 'gray')\n",
    "plt.show()"
   ]
  },
  {
   "cell_type": "markdown",
   "metadata": {
    "id": "eE1B62KamvRp"
   },
   "source": [
    "### Visualizando os pesos de todas as classes"
   ]
  },
  {
   "cell_type": "code",
   "execution_count": 40,
   "metadata": {
    "ExecuteTime": {
     "end_time": "2017-11-24T16:34:50.240218",
     "start_time": "2017-11-24T16:34:50.025515"
    },
    "colab": {
     "base_uri": "https://localhost:8080/",
     "height": 156
    },
    "id": "EHm39Pe_mvRp",
    "outputId": "1be44612-32bf-41e6-c67a-1e4cc2ab6ae2"
   },
   "outputs": [
    {
     "data": {
      "image/png": "[encoded data removed]",
      "text/plain": [
       "<Figure size 1500x1000 with 1 Axes>"
      ]
     },
     "metadata": {},
     "output_type": "display_data"
    }
   ],
   "source": [
    "# cria um grid com as imagens\n",
    "grid = torchvision.utils.make_grid(weights.view(-1, 1, 28, 28), normalize=True, pad_value=1.0, padding=1, nrow=10)\n",
    "\n",
    "plt.figure(figsize=(15, 10))\n",
    "plt.imshow(grid.numpy().transpose(1, 2, 0))\n",
    "plt.axis('off');"
   ]
  },
  {
   "cell_type": "markdown",
   "metadata": {
    "id": "odqHBFclmvRt"
   },
   "source": [
    "### Diagrama da regressão softmax com visualização dos pesos W"
   ]
  },
  {
   "cell_type": "markdown",
   "metadata": {
    "id": "UVKoDiM-mvRu"
   },
   "source": [
    "![alt text](https://raw.githubusercontent.com/vcasadei/images/master/RegressaoSoftmaxArgmaxNMIST.png)"
   ]
  },
  {
   "cell_type": "markdown",
   "metadata": {
    "id": "y0vTJyVbmvRv"
   },
   "source": [
    "# Atividades"
   ]
  },
  {
   "cell_type": "markdown",
   "metadata": {
    "id": "Rl-7WEDMmvRw"
   },
   "source": [
    "## Exercícios"
   ]
  },
  {
   "cell_type": "markdown",
   "metadata": {
    "id": "Vn4GzfSYmvR5"
   },
   "source": [
    "- 1) Insira código no laço do treinamento para que no final de cada época,\n",
    "     seja impresso: o número da época e a perda e a acurácia"
   ]
  },
  {
   "cell_type": "markdown",
   "metadata": {
    "id": "RtZPs6M6mvR6"
   },
   "source": [
    "- 2) Insira código no laço do treinamento para visualização dos valores dos gradientes referentes à classe do dígito 4, no final de cada época."
   ]
  },
  {
   "cell_type": "markdown",
   "metadata": {
    "id": "8UjOANOOe4Es"
   },
   "source": [
    "<details>\n",
    "<summary>Mostrar Resultado</summary>\n",
    "\n",
    "```python\n",
    "from IPython import display\n",
    "import numpy\n",
    "a = 5\n",
    "losses = []\n",
    "zs = []\n",
    "fig = plt.figure(figsize=(18, 6))\n",
    "\n",
    "try:\n",
    "    for i in range(epochs):\n",
    "        # Transforma a entrada para uma dimensão\n",
    "        inputs = Variable(x_train.view(-1, 28 * 28))\n",
    "        # Predict da rede\n",
    "        outputs = model(inputs)\n",
    "        zs.append(outputs[1].detach().numpy())\n",
    "\n",
    "        # calcula a perda\n",
    "        loss = criterion(outputs, Variable(y_train))\n",
    "\n",
    "        # zero, backpropagation, ajusta parâmetros pelo gradiente descendente\n",
    "        optimizer.zero_grad()\n",
    "        loss.backward()\n",
    "        optimizer.step()\n",
    "\n",
    "        losses.append(loss.data)\n",
    "        weights_d = model.weight.data[4].numpy().reshape(28,28)\n",
    "        weights_g = model.weight.grad.data[4].numpy().reshape(28,28)\n",
    "        ww = np.concatenate((weights_d,weights_g),1)\n",
    "        plt.imshow(ww.reshape((28,28*2)),cmap = 'gray')\n",
    "        display.display(fig)\n",
    "        display.clear_output(wait=True)\n",
    "        input(i)\n",
    "        \n",
    "        _, predicts = torch.max(outputs, 1)\n",
    "\n",
    "        y_pred = predicts.data\n",
    "        accuracy = (y_pred.numpy() == y_train.numpy()).mean()\n",
    "        print('Accuracy:', accuracy)\n",
    "        print(\"epoca: \" + str(i + 1))\n",
    "        print(\"perda: \" + str(loss.data.detach().numpy()))\n",
    "except KeyboardInterrupt:\n",
    "    pass\n",
    "```\n",
    "\n",
    "</details>\n",
    "\n"
   ]
  },
  {
   "cell_type": "markdown",
   "metadata": {
    "heading_collapsed": true,
    "id": "WNYt_-zhmvR7"
   },
   "source": [
    "## Perguntas"
   ]
  },
  {
   "cell_type": "markdown",
   "metadata": {
    "hidden": true,
    "id": "joaXY_W3mvR9"
   },
   "source": [
    "1. Qual é o shape da matriz de entrada na rede?\n",
    "   - 60k de imagens do MNIST, cada imagem 28x28 pixels -> (60000, 784)\n",
    "3. Qual é o shape da saída da rede?\n",
    "   - São gerados 10 valores para cada imagem -> (60000, 10)\n",
    "5. Qual é o número total de parâmetros da rede, incluindo o bias?\n",
    "   - 784*10(pesos)+10(biases) = 7850"
   ]
  },
  {
   "cell_type": "markdown",
   "metadata": {
    "id": "WzWdNQ6PmvR9"
   },
   "source": [
    "# Aprendizados\n"
   ]
  },
  {
   "cell_type": "markdown",
   "metadata": {},
   "source": [
    "A atividade deste notebook é bastante semelhante à do notebook 3.2, porém com uma abordagem mais direta e compacta. Essa diferença é natural, já que o notebook anterior tinha como objetivo introduzir gradualmente os conceitos fundamentais do treinamento de redes neurais com PyTorch, enquanto este reforça a aplicação prática desses conceitos já assimilados. Ao focar mais na execução do modelo e menos na explicação detalhada de cada etapa, o presente notebook permite consolidar o aprendizado de maneira mais enxuta e objetiva."
   ]
  },
  {
   "cell_type": "code",
   "execution_count": null,
   "metadata": {},
   "outputs": [],
   "source": []
  }
 ],
 "metadata": {
  "accelerator": "GPU",
  "colab": {
   "name": "3.5-LogisticRegressionMNIST-Iterativo.ipynb",
   "provenance": []
  },
  "kernelspec": {
   "display_name": "Python 3 (ipykernel)",
   "language": "python",
   "name": "python3"
  },
  "language_info": {
   "codemirror_mode": {
    "name": "ipython",
    "version": 3
   },
   "file_extension": ".py",
   "mimetype": "text/x-python",
   "name": "python",
   "nbconvert_exporter": "python",
   "pygments_lexer": "ipython3",
   "version": "3.12.0"
  },
  "vscode": {
   "interpreter": {
    "hash": "5fe3e6f0cdaab8afdc61c52912fda83f7c0a71baaea1897dd7498e2df01e69ec"
   }
  }
 },
 "nbformat": 4,
 "nbformat_minor": 4
}
